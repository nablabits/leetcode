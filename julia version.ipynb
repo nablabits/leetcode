{
 "cells": [
  {
   "cell_type": "markdown",
   "metadata": {},
   "source": [
    "# Running Sum of 1d Array (#1480)\n",
    "\n",
    "**[Exercise](https://leetcode.com/problems/running-sum-of-1d-array/)**\n",
    "\n",
    "Given an array `nums`. We define a running sum of an array as `runningSum[i] = sum(nums[0]…nums[i])`.\n",
    "\n",
    "Return the running sum of `nums`.\n",
    "\n",
    " \n",
    "\n",
    "Example 1:\n",
    "\n",
    "Input: nums = [1,2,3,4]  \n",
    "Output: [1,3,6,10]  \n",
    "Explanation: Running sum is obtained as follows: [1, 1+2, 1+2+3, 1+2+3+4].  \n",
    "\n",
    "Example 2:\n",
    "\n",
    "Input: nums = [1,1,1,1,1]  \n",
    "Output: [1,2,3,4,5]  \n",
    "Explanation: Running sum is obtained as follows: [1, 1+1, 1+1+1, 1+1+1+1, 1+1+1+1+1].  \n",
    "\n",
    "Example 3:\n",
    "\n",
    "Input: nums = [3,1,2,10,1]  \n",
    "Output: [3,4,6,16,17]  \n",
    "\n",
    " \n",
    "\n",
    "Constraints:\n",
    "\n",
    "* 1 <= nums.length <= 1000\n",
    "* -10^6 <= nums[i] <= 10^6"
   ]
  },
  {
   "cell_type": "code",
   "execution_count": 1,
   "metadata": {},
   "outputs": [
    {
     "data": {
      "text/plain": [
       "assertions (generic function with 1 method)"
      ]
     },
     "execution_count": 1,
     "metadata": {},
     "output_type": "execute_result"
    }
   ],
   "source": [
    "function assertions()\n",
    "    checks = (\n",
    "        ([1, 1, 1, 1], [1, 2, 3, 4,]),\n",
    "        ([1, 10, 20, 7], [1, 11, 31, 38]),\n",
    "    )\n",
    "    \n",
    "    failed = false\n",
    "    for c in checks\n",
    "        E = runningSum(c[1])\n",
    "        if E != c[2]\n",
    "            println(\"Expected array for $c[1]: $c[1]; returned: $E\")\n",
    "            failed = true\n",
    "            break\n",
    "        end\n",
    "    end\n",
    "    if failed\n",
    "        return\n",
    "    end\n",
    "end"
   ]
  },
  {
   "cell_type": "markdown",
   "metadata": {},
   "source": [
    "## Julia's cumsum approach\n",
    "Like numpy, julia has a cumsum method for arrays, is not the fastest but is the shortest"
   ]
  },
  {
   "cell_type": "code",
   "execution_count": 2,
   "metadata": {},
   "outputs": [
    {
     "name": "stdout",
     "output_type": "stream",
     "text": [
      "  0.000002 seconds (9 allocations: 768 bytes)\n"
     ]
    }
   ],
   "source": [
    "function runningSum(nums)\n",
    "    return cumsum(nums)\n",
    "end\n",
    "\n",
    "@time assertions()"
   ]
  },
  {
   "cell_type": "code",
   "execution_count": 16,
   "metadata": {},
   "outputs": [
    {
     "name": "stdout",
     "output_type": "stream",
     "text": [
      "  0.000004 seconds (13 allocations: 1.031 KiB)\n"
     ]
    }
   ],
   "source": [
    "function runningSum(nums)\n",
    "    output = [nums[1]]\n",
    "    for number in nums[2:end]\n",
    "        push!(output, number + output[end])\n",
    "    end\n",
    "    return output\n",
    "end\n",
    "\n",
    "@time assertions()"
   ]
  }
 ],
 "metadata": {
  "kernelspec": {
   "display_name": "Julia 1.4.1",
   "language": "julia",
   "name": "julia-1.4"
  },
  "language_info": {
   "file_extension": ".jl",
   "mimetype": "application/julia",
   "name": "julia",
   "version": "1.4.1"
  }
 },
 "nbformat": 4,
 "nbformat_minor": 4
}
