{
 "cells": [
  {
   "cell_type": "markdown",
   "metadata": {},
   "source": [
    "# Queue & stack\n",
    "A short incursion on processing orders  \n",
    "[Leetcode](https://leetcode.com/explore/learn/card/queue-stack/)"
   ]
  },
  {
   "cell_type": "code",
   "execution_count": 2,
   "metadata": {},
   "outputs": [
    {
     "name": "stdout",
     "output_type": "stream",
     "text": [
      "Julia Version 1.4.1\n",
      "Platform Info:\n",
      "  OS: Linux (x86_64-linux-gnu)\n",
      "  CPU: Intel(R) Core(TM) i5-7400 CPU @ 3.00GHz\n",
      "  WORD_SIZE: 64\n",
      "  LIBM: libopenlibm\n",
      "  LLVM: libLLVM-8.0.1 (ORCJIT, skylake)\n"
     ]
    }
   ],
   "source": [
    "versioninfo()"
   ]
  },
  {
   "cell_type": "markdown",
   "metadata": {},
   "source": [
    "## First in first out data structure FIFO\n",
    "<img src=\"https://s3-lc-upload.s3.amazonaws.com/uploads/2018/05/03/screen-shot-2018-05-03-at-151021.png\" width=\"400px\">\n",
    "\n",
    "**Enqueue:** insert an element in the array  \n",
    "**Dequeue:** pop an element in the array"
   ]
  },
  {
   "cell_type": "code",
   "execution_count": 8,
   "metadata": {},
   "outputs": [],
   "source": [
    "# structs are inmutable by default & head will eventually change\n",
    "mutable struct MyQueue  \n",
    "    data :: Array\n",
    "    head :: Int32  # One can't assign a default value to a constructor\n",
    "end\n",
    "\n",
    "function enQueue(queue::MyQueue, n::Int64)\n",
    "    \"\"\"Adds an element to the queue.\n",
    "    \n",
    "    Args:\n",
    "    * queue: the queue where the element will be added\n",
    "    * n: the element that will be added (integer in this case)\n",
    "    \n",
    "    returns: true\n",
    "    \"\"\"\n",
    "    \n",
    "    push!(queue.data, n)\n",
    "    return true\n",
    "end\n",
    "\n",
    "function deQueue(queue::MyQueue)\n",
    "    \"\"\"Removes the first element of the queue while keeping the original struct\n",
    "    \n",
    "    Args:\n",
    "    * queue: the queue where the element will be added\n",
    "    \n",
    "    returns: true whenever the queue is not empty\n",
    "    \"\"\"\n",
    "    if isempty(queue.data)\n",
    "        return false\n",
    "    end\n",
    "    queue.head += 1\n",
    "    return true\n",
    "end\n",
    "    \n",
    "\n",
    "q = MyQueue([], 1)\n",
    "\n",
    "# Add data to the queue\n",
    "enQueue(q, 5)\n",
    "@assert q.data == [5, ]\n",
    "enQueue(q, 7)\n",
    "@assert q.data == [5, 7, ]\n",
    "@assert q.head == 1\n",
    "\n",
    "\n",
    "@assert deQueue(q)\n",
    "@assert q.head == 2  # head skips one unit\n",
    "@assert q.data == [5, 7, ]  # data is preserved\n"
   ]
  },
  {
   "cell_type": "code",
   "execution_count": null,
   "metadata": {},
   "outputs": [],
   "source": []
  }
 ],
 "metadata": {
  "kernelspec": {
   "display_name": "Julia 1.4.1",
   "language": "julia",
   "name": "julia-1.4"
  },
  "language_info": {
   "file_extension": ".jl",
   "mimetype": "application/julia",
   "name": "julia",
   "version": "1.4.1"
  }
 },
 "nbformat": 4,
 "nbformat_minor": 4
}
