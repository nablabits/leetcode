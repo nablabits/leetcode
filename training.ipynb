{
 "cells": [
  {
   "cell_type": "markdown",
   "metadata": {},
   "source": [
    "# Leetcode\n",
    "---\n",
    "Preparing tech interviews in the short run, take the programming skills to the next level in the long run.\n",
    "[Website](https://leetcode.com)\n"
   ]
  },
  {
   "cell_type": "markdown",
   "metadata": {},
   "source": [
    "# Two sum (#1)\n",
    "[Exercise](https://leetcode.com/problems/two-sum)\n",
    "\n",
    "Given an array of integers, return indices of the two numbers such that they add up to a specific target.\n",
    "\n",
    "You may assume that each input would have **exactly** one solution, and you may not use the same element twice.\n",
    "\n",
    "Example:\n",
    "\n",
    "Given `nums = [2, 7, 11, 15], target = 9`\n",
    "\n",
    "Because nums[0] + nums[1] = 2 + 7 = 9,  \n",
    "`return [0, 1]`\n",
    "\n"
   ]
  },
  {
   "cell_type": "code",
   "execution_count": 1,
   "metadata": {},
   "outputs": [],
   "source": [
    "def assertions():\n",
    "    # define checks: list, target, expected output\n",
    "    checks = (\n",
    "        ([-3, 4, 3, 90], 0, [0, 2]),\n",
    "        ([2, 7, 11, 15], 9, [0, 1]),\n",
    "        ([0, 0, 4, 7], 0, [0, 1]),\n",
    "        ([3, 2, 4], 6, [1, 2]),\n",
    "        ([-1, -2, -3, -4, -5], -8, [2, 4]),\n",
    "    )\n",
    "    \n",
    "    failed = False\n",
    "    for c in checks:\n",
    "        E = twoSum(c[0], c[1])\n",
    "        if E != c[2]:\n",
    "            print(c[0], c[1], E, c[2])\n",
    "            failed = True\n",
    "            break\n",
    "    if failed:\n",
    "        return"
   ]
  },
  {
   "cell_type": "markdown",
   "metadata": {},
   "source": [
    "## Numpy approach\n",
    "* Convert the list into a numpy array to efficiently iterate. \n",
    "* Then, for each integer in the array calculate the sum of each element with \n",
    "  that integer to check whether any sum adds to the target (winner). \n",
    "* Then search those positions in the array, first, the current iteration \n",
    "  element.\n",
    "* Chances are the location returns two positions if the target is the sum\n",
    "  of the same numbers in different positions in the array. \n",
    "* Otherwise, search the position of the second element.   "
   ]
  },
  {
   "cell_type": "code",
   "execution_count": 2,
   "metadata": {},
   "outputs": [],
   "source": [
    "import numpy as np\n",
    "def twoSum(nums, target):\n",
    "    \"\"\"Return the indices of the integers that sum up to the target.\"\"\"\n",
    "    array = np.array(nums)\n",
    "    for n, i in enumerate(array):\n",
    "        if (array[n+1:] + i == target).any():\n",
    "            # There is a winner in this iteration\n",
    "            first_pos = np.where(array == i)[0]\n",
    "            if first_pos.size == 2:\n",
    "                return [first_pos[0], first_pos[1]]\n",
    "            return [\n",
    "                first_pos[0], np.where(array == target - i)[0][0]]"
   ]
  },
  {
   "cell_type": "code",
   "execution_count": 3,
   "metadata": {},
   "outputs": [
    {
     "name": "stdout",
     "output_type": "stream",
     "text": [
      "66 µs ± 371 ns per loop (mean ± std. dev. of 7 runs, 10000 loops each)\n"
     ]
    }
   ],
   "source": [
    "%%timeit\n",
    "assertions()"
   ]
  },
  {
   "cell_type": "markdown",
   "metadata": {},
   "source": [
    "## Hash table approach (2-loops)\n",
    "We need a way to get the index of the conjugate and that could be achieved by usign a `dict` where:\n",
    "* Keys are the values we'll search the conjugate within.\n",
    "* Values are the current conjugate position\n",
    "* For any number in the array we'll calculate the conjugate and search in the keys"
   ]
  },
  {
   "cell_type": "code",
   "execution_count": 4,
   "metadata": {},
   "outputs": [],
   "source": [
    "def twoSum(nums, target):\n",
    "    indices = {n: idx for idx, n in enumerate(nums)}\n",
    "    for idx, n in enumerate(nums):\n",
    "        conjugate = target - n\n",
    "        if conjugate in indices.keys() and indices[conjugate] != idx:\n",
    "            return [idx, indices[conjugate]]"
   ]
  },
  {
   "cell_type": "code",
   "execution_count": 5,
   "metadata": {},
   "outputs": [
    {
     "name": "stdout",
     "output_type": "stream",
     "text": [
      "5.39 µs ± 104 ns per loop (mean ± std. dev. of 7 runs, 100000 loops each)\n"
     ]
    }
   ],
   "source": [
    "%%timeit\n",
    "assertions()"
   ]
  },
  {
   "cell_type": "markdown",
   "metadata": {},
   "source": [
    "## Hash table approach (1-loop)\n",
    "Update the dict on the fly and look back for the conjugate"
   ]
  },
  {
   "cell_type": "code",
   "execution_count": 6,
   "metadata": {},
   "outputs": [],
   "source": [
    "def twoSum(nums, target):\n",
    "    indices = {}\n",
    "    for idx, n in enumerate(nums):\n",
    "        conjugate = target - n\n",
    "        if conjugate in indices.keys():\n",
    "            return [indices[conjugate], idx]\n",
    "        indices.update([[n, idx], [n, idx]])"
   ]
  },
  {
   "cell_type": "code",
   "execution_count": 7,
   "metadata": {},
   "outputs": [
    {
     "name": "stdout",
     "output_type": "stream",
     "text": [
      "6.72 µs ± 96.7 ns per loop (mean ± std. dev. of 7 runs, 100000 loops each)\n"
     ]
    }
   ],
   "source": [
    "%%timeit\n",
    "assertions()"
   ]
  },
  {
   "cell_type": "markdown",
   "metadata": {},
   "source": [
    "## Numpy matrix approach\n",
    "Create a matrix out of the sum of the arrays and look for the target's position. Notice that the matrix created is diagonal so usually `np.where` will return a couple of indexers --the rows and the columms-- with two numbers inside meaning x, y coordinates. In the case of `[0, 0, 4, 7]`, four coordinates will be returned meaning the sum of the submatrix `[[0, 0],[0, 0]` in the top left corner.\n",
    "\n",
    "This approach greatly exceeded the time limit processing a quite big array."
   ]
  },
  {
   "cell_type": "code",
   "execution_count": 8,
   "metadata": {},
   "outputs": [],
   "source": [
    "def twoSum(nums, target):\n",
    "    n = len(nums)\n",
    "    matrix = np.full((n, n), nums)\n",
    "    diagonal = matrix + matrix.T\n",
    "    # exclude diagonal from the results\n",
    "    diagonal[np.eye(n).astype(bool)] = target + 1\n",
    "    find = np.where(diagonal == target)\n",
    "    if find[0].size == 2:\n",
    "        return [find[0][0], find[0][1]]\n",
    "    else:\n",
    "        return [find[0][1], find[0][2]]"
   ]
  },
  {
   "cell_type": "code",
   "execution_count": 9,
   "metadata": {},
   "outputs": [
    {
     "name": "stdout",
     "output_type": "stream",
     "text": [
      "74.7 µs ± 1.35 µs per loop (mean ± std. dev. of 7 runs, 10000 loops each)\n"
     ]
    }
   ],
   "source": [
    "%%timeit\n",
    "assertions()"
   ]
  },
  {
   "cell_type": "markdown",
   "metadata": {},
   "source": [
    "# Running Sum of 1d Array (#1480)\n",
    "\n",
    "**[Exercise](https://leetcode.com/problems/running-sum-of-1d-array/)**\n",
    "\n",
    "Given an array `nums`. We define a running sum of an array as `runningSum[i] = sum(nums[0]…nums[i])`.\n",
    "\n",
    "Return the running sum of `nums`.\n",
    "\n",
    " \n",
    "\n",
    "Example 1:\n",
    "\n",
    "Input: nums = [1,2,3,4]  \n",
    "Output: [1,3,6,10]  \n",
    "Explanation: Running sum is obtained as follows: [1, 1+2, 1+2+3, 1+2+3+4].  \n",
    "\n",
    "Example 2:\n",
    "\n",
    "Input: nums = [1,1,1,1,1]  \n",
    "Output: [1,2,3,4,5]  \n",
    "Explanation: Running sum is obtained as follows: [1, 1+1, 1+1+1, 1+1+1+1, 1+1+1+1+1].  \n",
    "\n",
    "Example 3:\n",
    "\n",
    "Input: nums = [3,1,2,10,1]  \n",
    "Output: [3,4,6,16,17]  \n",
    "\n",
    " \n",
    "\n",
    "Constraints:\n",
    "\n",
    "* 1 <= nums.length <= 1000\n",
    "* -10^6 <= nums[i] <= 10^6"
   ]
  },
  {
   "cell_type": "code",
   "execution_count": 10,
   "metadata": {},
   "outputs": [],
   "source": [
    "import numpy as np\n",
    "def assertions():\n",
    "    # define checks: list, target, expected output\n",
    "    checks = (\n",
    "        ([1, 1, 1, 1], [1, 2, 3, 4,]),\n",
    "        ([1, 10, 20, 7], [1, 11, 31, 38]),\n",
    "        ([1, 2, 3, 4], [1, 3, 6, 10])\n",
    "    )\n",
    "    \n",
    "    failed = False\n",
    "    for c in checks:\n",
    "        E = runningSum(c[0])\n",
    "        if E != c[1]:\n",
    "            print('Expected array for {}: {}; returned: {}'.format(\n",
    "                   c[0], c[1], E,))\n",
    "            failed = True\n",
    "            break\n",
    "    if failed:\n",
    "        return"
   ]
  },
  {
   "cell_type": "markdown",
   "metadata": {},
   "source": [
    "## Numpy.cumsum() approach\n",
    "Maybe the shortest and easiest (but not the fastest) way to achieve it is the numpy's `cumsum()` method"
   ]
  },
  {
   "cell_type": "code",
   "execution_count": 11,
   "metadata": {},
   "outputs": [],
   "source": [
    "def runningSum(nums):\n",
    "    return np.array(nums).cumsum().tolist()"
   ]
  },
  {
   "cell_type": "code",
   "execution_count": 12,
   "metadata": {},
   "outputs": [
    {
     "name": "stdout",
     "output_type": "stream",
     "text": [
      "6.81 µs ± 212 ns per loop (mean ± std. dev. of 7 runs, 100000 loops each)\n"
     ]
    }
   ],
   "source": [
    "%%timeit\n",
    "assertions()"
   ]
  },
  {
   "cell_type": "markdown",
   "metadata": {},
   "source": [
    "## Simple Iterator approach"
   ]
  },
  {
   "cell_type": "code",
   "execution_count": 13,
   "metadata": {},
   "outputs": [],
   "source": [
    "def runningSum(nums):\n",
    "    output = nums[:1]\n",
    "    for number in nums[1:]:\n",
    "        output.append(output[-1] + number)\n",
    "    return output"
   ]
  },
  {
   "cell_type": "code",
   "execution_count": 14,
   "metadata": {},
   "outputs": [
    {
     "name": "stdout",
     "output_type": "stream",
     "text": [
      "1.84 µs ± 33.2 ns per loop (mean ± std. dev. of 7 runs, 1000000 loops each)\n"
     ]
    }
   ],
   "source": [
    "%%timeit\n",
    "assertions()"
   ]
  },
  {
   "cell_type": "markdown",
   "metadata": {},
   "source": [
    "A more succint, yet slower, one"
   ]
  },
  {
   "cell_type": "code",
   "execution_count": 15,
   "metadata": {},
   "outputs": [],
   "source": [
    "def runningSum(nums):\n",
    "    return [sum(nums[:idx+1]) for idx, _ in enumerate(nums)]"
   ]
  },
  {
   "cell_type": "code",
   "execution_count": 16,
   "metadata": {},
   "outputs": [
    {
     "name": "stdout",
     "output_type": "stream",
     "text": [
      "3.22 µs ± 12.7 ns per loop (mean ± std. dev. of 7 runs, 100000 loops each)\n"
     ]
    }
   ],
   "source": [
    "%%timeit\n",
    "assertions()"
   ]
  },
  {
   "cell_type": "code",
   "execution_count": 17,
   "metadata": {},
   "outputs": [],
   "source": [
    "def runningSums(nums):\n",
    "    for idx, number in enumerate(nums):\n",
    "        nums[idx] += nums[idx-1]\n",
    "    return nums"
   ]
  },
  {
   "cell_type": "code",
   "execution_count": 18,
   "metadata": {},
   "outputs": [
    {
     "name": "stdout",
     "output_type": "stream",
     "text": [
      "3.23 µs ± 23.8 ns per loop (mean ± std. dev. of 7 runs, 100000 loops each)\n"
     ]
    }
   ],
   "source": [
    "%%timeit\n",
    "assertions()"
   ]
  },
  {
   "cell_type": "markdown",
   "metadata": {},
   "source": [
    "# Reverse integer #7\n",
    "\n",
    "**[Exercise](https://leetcode.com/problems/reverse-integer/)**\n",
    "\n",
    "Given a 32-bit signed integer, reverse digits of an integer.\n",
    "\n",
    "Example 1:\n",
    "\n",
    "Input: 123  \n",
    "Output: 321\n",
    "\n",
    "Example 2:\n",
    "\n",
    "Input: -123  \n",
    "Output: -321\n",
    "\n",
    "Example 3:\n",
    "\n",
    "Input: 120  \n",
    "Output: 21\n",
    "\n",
    "Note:  \n",
    "Assume we are dealing with an environment which could only store integers within the 32-bit signed integer range: $[−2^{31},  2^{31} − 1]$. For the purpose of this problem, assume that your function returns 0 when the reversed integer overflows.\n"
   ]
  },
  {
   "cell_type": "code",
   "execution_count": 19,
   "metadata": {},
   "outputs": [],
   "source": [
    "import numpy as np\n",
    "def assertions():\n",
    "    # define checks: input integer and expected output\n",
    "    checks = (\n",
    "        (123, 321),\n",
    "        (-123, -321),\n",
    "        (120, 21),\n",
    "        (214748364, 463847412),\n",
    "        (2147483648, 0)  # Overflow\n",
    "    )\n",
    "    \n",
    "    failed = False\n",
    "    for c in checks:\n",
    "        E = reverse(c[0])\n",
    "        if E != c[1]:\n",
    "            print('Expected integer for {}: {}; returned: {}'.format(\n",
    "                   c[0], c[1], E,))\n",
    "            failed = True\n",
    "            break\n",
    "    if failed:\n",
    "        return"
   ]
  },
  {
   "cell_type": "markdown",
   "metadata": {},
   "source": [
    "## Exponentiation approach\n",
    "Multiply each digit in the int by growing powers of ten  \n",
    "\n",
    "$123 = 1\\times 10^2+2\\times 10^1+3\\times 10^0$  \n",
    "$321 = 1\\times 10^0+2\\times 10^1+3\\times 10^2$\n",
    "\n",
    "It ranked quite nice, over 73% "
   ]
  },
  {
   "cell_type": "code",
   "execution_count": 20,
   "metadata": {},
   "outputs": [],
   "source": [
    "def reverse(i):\n",
    "    # get the digits excluding the sign\n",
    "    negative = i < 0\n",
    "    digits = str(i)[1:] if negative else str(i)\n",
    "    outcome = 0\n",
    "    for e, d in enumerate(digits):\n",
    "        outcome += int(d)*10**e\n",
    "    \n",
    "    # rescue the sign (if any)\n",
    "    if negative:\n",
    "        outcome *= -1\n",
    "    \n",
    "    # Overflows int32\n",
    "    if outcome < -2**31 or outcome > 2**31-1:\n",
    "        outcome = 0\n",
    "        \n",
    "    return outcome\n"
   ]
  },
  {
   "cell_type": "code",
   "execution_count": 21,
   "metadata": {},
   "outputs": [
    {
     "name": "stdout",
     "output_type": "stream",
     "text": [
      "9.88 µs ± 33.3 ns per loop (mean ± std. dev. of 7 runs, 100000 loops each)\n"
     ]
    }
   ],
   "source": [
    "%%timeit\n",
    "assertions()"
   ]
  },
  {
   "cell_type": "markdown",
   "metadata": {},
   "source": [
    "# Palindrome #9\n",
    "\n",
    "**[Exercise](https://leetcode.com/problems/palindrome-number/)**\n",
    "\n",
    "Determine whether an integer is a palindrome. An integer is a palindrome when it reads the same backward as forward.\n",
    "\n",
    "Example 1:\n",
    "\n",
    "Input: 121  \n",
    "Output: true\n",
    "\n",
    "Example 2:\n",
    "\n",
    "Input: -121  \n",
    "Output: false  \n",
    "Explanation: From left to right, it reads -121. From right to left, it becomes 121-. Therefore it is not a palindrome.\n",
    "\n",
    "Example 3:\n",
    "\n",
    "Input: 10  \n",
    "Output: false  \n",
    "Explanation: Reads 01 from right to left. Therefore it is not a palindrome.\n",
    "\n",
    "Follow up:\n",
    "\n",
    "Coud you solve it without converting the integer to a string?\n"
   ]
  },
  {
   "cell_type": "code",
   "execution_count": 44,
   "metadata": {},
   "outputs": [],
   "source": [
    "import numpy as np\n",
    "def assertions():\n",
    "    # define checks: input integer and expected output\n",
    "    checks = (\n",
    "        (121, True),\n",
    "        (-121, False),\n",
    "        (10, False),\n",
    "        (1001, True),\n",
    "        (0, True),\n",
    "        (1234567890987654321, True)\n",
    "    )\n",
    "    \n",
    "    failed = False\n",
    "    for c in checks:\n",
    "        E = isPalindrome(c[0])\n",
    "        if E != c[1]:\n",
    "            print('Expected outcome for {}: {}; returned: {}'.format(\n",
    "                   c[0], c[1], E,))\n",
    "            failed = True\n",
    "            break\n",
    "    if failed:\n",
    "        return"
   ]
  },
  {
   "cell_type": "markdown",
   "metadata": {},
   "source": [
    "## Length, list & loop\n",
    "There are three steeps in this approach:\n",
    "* Get the length of the integer\n",
    "* Build a list out of that length by int division of powers of ten\n",
    "* Test the positions in the list"
   ]
  },
  {
   "cell_type": "code",
   "execution_count": 51,
   "metadata": {},
   "outputs": [],
   "source": [
    "def isPalindrome(i):\n",
    "    # First, dismiss ints under 0\n",
    "    if i < 0:\n",
    "        return False\n",
    "    \n",
    "    # First thing to do is calculate the length of the int\n",
    "    length = 0\n",
    "    number = i\n",
    "    while number != 0:\n",
    "        length += 1\n",
    "        number //= 10\n",
    "        \n",
    "    # With that number we can create a list of the digits by decimal division\n",
    "    digits = list()\n",
    "    exp = length - 1  # Since we want the zero exponent\n",
    "    for _ in range(length):\n",
    "        digit = i // 10**exp\n",
    "        digits.append(digit)\n",
    "        i -= digit*10**exp\n",
    "        exp -= 1\n",
    "        \n",
    "    # Finally test the positions in the list\n",
    "    for idx in range(len(digits) // 2):\n",
    "        f, s = digits[idx], digits[-idx - 1]\n",
    "        if f != s:\n",
    "            return 0\n",
    "    return 1"
   ]
  },
  {
   "cell_type": "code",
   "execution_count": 52,
   "metadata": {},
   "outputs": [
    {
     "name": "stdout",
     "output_type": "stream",
     "text": [
      "19.6 µs ± 190 ns per loop (mean ± std. dev. of 7 runs, 10000 loops each)\n"
     ]
    }
   ],
   "source": [
    "%%timeit\n",
    "assertions()"
   ]
  },
  {
   "cell_type": "markdown",
   "metadata": {},
   "source": [
    "## LeetCode solution\n",
    "Start out by excluding border cases:\n",
    "* integers under 0\n",
    "* integers ending in 0 (but not 0 itself)\n",
    "\n",
    "Then reverse the first half of the integer, to do so:\n",
    "* Notice that the reverse of $12=1\\times 10^1 + 2\\times 10^0$ is $21=2\\times 10^1 + 1\\times 10^0$ \n",
    "* Grow by ten fold the already reversed number and add current last digit\n",
    "* Discard added digit from original number\n",
    "* Repeat until reversed number is greater than the remaining part of original number\n",
    "\n",
    "Also notice that when the original number's digits are odd, the central number can (and must) be excluded so the final comparison is either `remaining == reversed` or `remaining == reversed // 10` \n"
   ]
  },
  {
   "cell_type": "code",
   "execution_count": 50,
   "metadata": {},
   "outputs": [],
   "source": [
    "def isPalindrome(n):\n",
    "    # First, dismiss ints under 0\n",
    "    if n < 0 or (n % 10 == 0 and n != 0):\n",
    "        return False\n",
    "    rev = 0\n",
    "    while n > rev:\n",
    "        rev = rev * 10 + n % 10  # grow by ten fold and add current last digit \n",
    "        n //= 10  # discard added digit\n",
    "    \n",
    "    # Exclude central digit for odd number of digits\n",
    "    return rev == n or n == rev // 10"
   ]
  },
  {
   "cell_type": "code",
   "execution_count": 49,
   "metadata": {},
   "outputs": [
    {
     "name": "stdout",
     "output_type": "stream",
     "text": [
      "3.13 µs ± 38.5 ns per loop (mean ± std. dev. of 7 runs, 100000 loops each)\n"
     ]
    }
   ],
   "source": [
    "%%timeit\n",
    "assertions()"
   ]
  }
 ],
 "metadata": {
  "kernelspec": {
   "display_name": "Python 3",
   "language": "python",
   "name": "python3"
  },
  "language_info": {
   "codemirror_mode": {
    "name": "ipython",
    "version": 3
   },
   "file_extension": ".py",
   "mimetype": "text/x-python",
   "name": "python",
   "nbconvert_exporter": "python",
   "pygments_lexer": "ipython3",
   "version": "3.8.2"
  },
  "toc-autonumbering": true,
  "toc-showcode": false
 },
 "nbformat": 4,
 "nbformat_minor": 4
}
