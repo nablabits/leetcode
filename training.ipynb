{
 "cells": [
  {
   "cell_type": "markdown",
   "metadata": {},
   "source": [
    "# Leetcode\n",
    "---\n",
    "Preparing tech interviews in the short run, take the programming skills to the next level in the long run.\n",
    "[Website](https://leetcode.com)\n"
   ]
  },
  {
   "cell_type": "markdown",
   "metadata": {},
   "source": [
    "# Two sum\n",
    "[Exercise](https://leetcode.com/problems/two-sum)\n",
    "\n",
    "Given an array of integers, return indices of the two numbers such that they add up to a specific target.\n",
    "\n",
    "You may assume that each input would have **exactly** one solution, and you may not use the same element twice.\n",
    "\n",
    "Example:\n",
    "\n",
    "Given `nums = [2, 7, 11, 15], target = 9`\n",
    "\n",
    "Because nums[0] + nums[1] = 2 + 7 = 9,  \n",
    "`return [0, 1]`\n",
    "\n"
   ]
  },
  {
   "cell_type": "code",
   "execution_count": 135,
   "metadata": {},
   "outputs": [],
   "source": [
    "def assertions():\n",
    "    # define checks: list, target, expected output\n",
    "    checks = (\n",
    "        ([-3, 4, 3, 90], 0, [0, 2]),\n",
    "        ([2, 7, 11, 15], 9, [0, 1]),\n",
    "        ([0, 0, 4, 7], 0, [0, 1]),\n",
    "        ([3, 2, 4], 6, [1, 2]),\n",
    "        ([-1, -2, -3, -4, -5], -8, [2, 4]),\n",
    "    )\n",
    "    \n",
    "    failed = False\n",
    "    for c in checks:\n",
    "        E = twoSum(c[0], c[1])\n",
    "        if E != c[2]:\n",
    "            print(c[0], c[1], E, c[2])\n",
    "            failed = True\n",
    "            break\n",
    "    if failed:\n",
    "        return"
   ]
  },
  {
   "cell_type": "markdown",
   "metadata": {},
   "source": [
    "## Numpy approach\n",
    "* Convert the list into a numpy array to efficiently iterate. \n",
    "* Then, for each integer in the array calculate the sum of each element with \n",
    "  that integer to check whether any sum adds to the target (winner). \n",
    "* Then search those positions in the array, first, the current iteration \n",
    "  element.\n",
    "* Chances are the location returns two positions if the target is the sum\n",
    "  of the same numbers in different positions in the array. \n",
    "* Otherwise, search the position of the second element.   "
   ]
  },
  {
   "cell_type": "code",
   "execution_count": 136,
   "metadata": {},
   "outputs": [],
   "source": [
    "import numpy as np\n",
    "def twoSum(nums, target):\n",
    "    \"\"\"Return the indices of the integers that sum up to the target.\"\"\"\n",
    "    array = np.array(nums)\n",
    "    for n, i in enumerate(array):\n",
    "        if (array[n+1:] + i == target).any():\n",
    "            # There is a winner in this iteration\n",
    "            first_pos = np.where(array == i)[0]\n",
    "            if first_pos.size == 2:\n",
    "                return [first_pos[0], first_pos[1]]\n",
    "            return [\n",
    "                first_pos[0], np.where(array == target - i)[0][0]]"
   ]
  },
  {
   "cell_type": "code",
   "execution_count": 137,
   "metadata": {},
   "outputs": [
    {
     "name": "stdout",
     "output_type": "stream",
     "text": [
      "67.5 µs ± 572 ns per loop (mean ± std. dev. of 7 runs, 10000 loops each)\n"
     ]
    }
   ],
   "source": [
    "%%timeit\n",
    "assertions()"
   ]
  },
  {
   "cell_type": "markdown",
   "metadata": {},
   "source": [
    "## Hash table approach (2-loops)\n",
    "We need a way to get the index of the conjugate and that could be achieved by usign a `dict` where:\n",
    "* Keys are the values we'll search the conjugate within.\n",
    "* Values are the current conjugate position\n",
    "* For any number in the array we'll calculate the conjugate and search in the keys"
   ]
  },
  {
   "cell_type": "code",
   "execution_count": 138,
   "metadata": {},
   "outputs": [],
   "source": [
    "def twoSum(nums, target):\n",
    "    indices = {n: idx for idx, n in enumerate(nums)}\n",
    "    for idx, n in enumerate(nums):\n",
    "        conjugate = target - n\n",
    "        if conjugate in indices.keys() and indices[conjugate] != idx:\n",
    "            return [idx, indices[conjugate]]"
   ]
  },
  {
   "cell_type": "code",
   "execution_count": 139,
   "metadata": {},
   "outputs": [
    {
     "name": "stdout",
     "output_type": "stream",
     "text": [
      "5.59 µs ± 77.6 ns per loop (mean ± std. dev. of 7 runs, 100000 loops each)\n"
     ]
    }
   ],
   "source": [
    "%%timeit\n",
    "assertions()"
   ]
  },
  {
   "cell_type": "markdown",
   "metadata": {},
   "source": [
    "## Hash table approach (1-loop)\n",
    "Update the dict on the fly and look back for the conjugate"
   ]
  },
  {
   "cell_type": "code",
   "execution_count": 140,
   "metadata": {},
   "outputs": [],
   "source": [
    "def twoSum(nums, target):\n",
    "    indices = {}\n",
    "    for idx, n in enumerate(nums):\n",
    "        conjugate = target - n\n",
    "        if conjugate in indices.keys():\n",
    "            return [indices[conjugate], idx]\n",
    "        indices.update([[n, idx], [n, idx]])"
   ]
  },
  {
   "cell_type": "code",
   "execution_count": 141,
   "metadata": {},
   "outputs": [
    {
     "name": "stdout",
     "output_type": "stream",
     "text": [
      "6.63 µs ± 107 ns per loop (mean ± std. dev. of 7 runs, 100000 loops each)\n"
     ]
    }
   ],
   "source": [
    "%%timeit\n",
    "assertions()"
   ]
  },
  {
   "cell_type": "markdown",
   "metadata": {},
   "source": [
    "## Numpy matrix approach\n",
    "Create a matrix out of the sum of the arrays and look for the target's position. Notice that the matrix created is diagonal so usually `np.where` will return a couple of indexers --the rows and the columms-- with two numbers inside meaning x, y coordinates. In the case of `[0, 0, 4, 7]`, four coordinates will be returned meaning the sum of the submatrix `[[0, 0],[0, 0]` in the top left corner.\n",
    "\n",
    "This approach greatly exceeded the time limit processing a quite big array."
   ]
  },
  {
   "cell_type": "code",
   "execution_count": 142,
   "metadata": {},
   "outputs": [],
   "source": [
    "def twoSum(nums, target):\n",
    "    n = len(nums)\n",
    "    matrix = np.full((n, n), nums)\n",
    "    diagonal = matrix + matrix.T\n",
    "    # exclude diagonal from the results\n",
    "    diagonal[np.eye(n).astype(bool)] = target + 1\n",
    "    find = np.where(diagonal == target)\n",
    "    if find[0].size == 2:\n",
    "        return [find[0][0], find[0][1]]\n",
    "    else:\n",
    "        return [find[0][1], find[0][2]]"
   ]
  },
  {
   "cell_type": "code",
   "execution_count": 143,
   "metadata": {},
   "outputs": [
    {
     "name": "stdout",
     "output_type": "stream",
     "text": [
      "71.9 µs ± 704 ns per loop (mean ± std. dev. of 7 runs, 10000 loops each)\n"
     ]
    }
   ],
   "source": [
    "%%timeit\n",
    "assertions()"
   ]
  }
 ],
 "metadata": {
  "kernelspec": {
   "display_name": "Python 3",
   "language": "python",
   "name": "python3"
  },
  "language_info": {
   "codemirror_mode": {
    "name": "ipython",
    "version": 3
   },
   "file_extension": ".py",
   "mimetype": "text/x-python",
   "name": "python",
   "nbconvert_exporter": "python",
   "pygments_lexer": "ipython3",
   "version": "3.8.2"
  },
  "toc-autonumbering": true,
  "toc-showcode": false
 },
 "nbformat": 4,
 "nbformat_minor": 4
}
