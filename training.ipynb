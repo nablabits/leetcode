{
 "cells": [
  {
   "cell_type": "markdown",
   "metadata": {},
   "source": [
    "# Leetcode\n",
    "### Sharping coding skills\n",
    "[Website](https://leetcode.com)\n"
   ]
  },
  {
   "cell_type": "markdown",
   "metadata": {},
   "source": [
    "# Integer to roman #12\n",
    "[Exercise](https://leetcode.com/problems/integer-to-roman/)  \n",
    "\n",
    "Given an integer, convert it to a roman numeral. Input is guaranteed to be within the range from 1 to 3999."
   ]
  },
  {
   "cell_type": "markdown",
   "metadata": {},
   "source": [
    "## Identifying possible cases\n",
    "\n",
    "|Order||C   |X   |I   |\n",
    "|-----|---|----|----|----|\n",
    "|9    |   |CM  |XC  |IX  |\n",
    "|8    |   |DCCC|LXXX|VIII|\n",
    "|7    |   |DCC |LXX |VII |\n",
    "|6    |   |DC  |LX  |VI  |\n",
    "|5    |   |D   |L   |V   |\n",
    "|4    |   |CD  |XL  |IV  |\n",
    "|3    |MMM|CCC |XXX |III |\n",
    "|2    |MM |CC  |XX  |II  |\n",
    "|1    |M  |C   |X   |I   |\n",
    "\n",
    "We notice that there are four Key Chars (M, C, X or I) and three mid step chars corresponding to the first three key chars (C->D, X->L & I->V)\n",
    "\n",
    "So it seems that when there's a pattern:\n",
    "* **less than 4:** we have the key char repeated *order* times\n",
    "* **4:** we have the mid step's corresponding char preceding the key char\n",
    "* **[5, 8]:** mid step's one plus key char repeated *order* times minus one (so with 5 there's no additional char)\n",
    "* **9:** Key char + next magnitude (I->X, X->C, C->M)\n",
    "\n",
    "We iterate through decimal positions reducing by a tenfold on each iteration until integer is exhausted\n",
    "\n",
    "48ms 78.91% speed; 13.8Mb - 67.63%\n"
   ]
  },
  {
   "cell_type": "code",
   "execution_count": 28,
   "metadata": {},
   "outputs": [],
   "source": [
    "def intToRoman(n):\n",
    "    roman = \"\"\n",
    "    key = [\"I\", \"X\", \"C\", \"M\", ]\n",
    "    mid_step = [\"V\", \"L\", \"D\", \"\"]\n",
    "    cursor = 0\n",
    "    while n > 0:\n",
    "        k, m = key[cursor], mid_step[cursor]\n",
    "        digit = n % 10\n",
    "        if digit < 4:\n",
    "            roman =  digit * k + roman\n",
    "        elif digit == 4:\n",
    "            roman = k + m + roman\n",
    "        elif digit == 9:\n",
    "            roman = k + key[cursor + 1] + roman\n",
    "        else:\n",
    "            roman = m + (digit - 5) * k + roman\n",
    "        n //= 10\n",
    "        cursor += 1\n",
    "    return roman\n",
    "intToRoman(3999)"
   ]
  },
  {
   "cell_type": "markdown",
   "metadata": {},
   "source": [
    "## Refine previous algorithm\n",
    "\n",
    "We can perform better by merging both lists into a sigle array.\n",
    "\n",
    "40ms 95.68%; 13.8Mb 68.75%"
   ]
  },
  {
   "cell_type": "code",
   "execution_count": 1,
   "metadata": {},
   "outputs": [
    {
     "data": {
      "text/plain": [
       "'MMMCMXCIX'"
      ]
     },
     "execution_count": 1,
     "metadata": {},
     "output_type": "execute_result"
    }
   ],
   "source": [
    "def intToRoman(num):\n",
    "    roman = \"\"\n",
    "    keys = [\"I\", \"V\", \"X\", \"L\", \"C\", \"D\", \"M\", ]\n",
    "    c = 0  # cursor to select the keys\n",
    "    while num > 0:\n",
    "        digit = num % 10\n",
    "        if digit < 4:\n",
    "            roman =  digit * keys[c] + roman\n",
    "        elif digit == 4:\n",
    "            roman = keys[c] + keys[c+1] + roman\n",
    "        elif digit == 9:\n",
    "            roman = keys[c] + keys[c + 2] + roman\n",
    "        else:\n",
    "            roman = keys[c + 1] + (digit - 5) * keys[c] + roman\n",
    "        num //= 10\n",
    "        c += 2\n",
    "    return roman\n",
    "intToRoman(3999)"
   ]
  },
  {
   "cell_type": "markdown",
   "metadata": {},
   "source": [
    "# Roman to integer #13\n",
    "[Exercise](https://leetcode.com/problems/roman-to-integer/)\n",
    "\n",
    "Roman numerals are represented by seven different symbols: I, V, X, L, C, D and M.\n",
    "\n",
    "Symbol       Value\n",
    "I             1\n",
    "V             5\n",
    "X             10\n",
    "L             50\n",
    "C             100\n",
    "D             500\n",
    "M             1000\n",
    "\n",
    "For example, two is written as II in Roman numeral, just two one's added together. Twelve is written as, XII, which is simply X + II. The number twenty seven is written as XXVII, which is XX + V + II.\n",
    "\n",
    "Roman numerals are usually written largest to smallest from left to right. However, the numeral for four is not IIII. Instead, the number four is written as IV. Because the one is before the five we subtract it making four. The same principle applies to the number nine, which is written as IX. There are six instances where subtraction is used:\n",
    "\n",
    "* I can be placed before V (5) and X (10) to make 4 and 9. \n",
    "* X can be placed before L (50) and C (100) to make 40 and 90. \n",
    "* C can be placed before D (500) and M (1000) to make 400 and 900.\n",
    "\n",
    "Given a roman numeral, convert it to an integer. Input is guaranteed to be within the range from 1 to 3999.\n",
    "\n",
    "**Example 1:**\n",
    "\n",
    "```\n",
    "Input: \"III\"\n",
    "Output: 3\n",
    "```\n",
    "\n",
    "**Example 2:**\n",
    "```\n",
    "Input: \"IV\"\n",
    "Output: 4\n",
    "```\n",
    "\n",
    "**Example 3:**\n",
    "```\n",
    "Input: \"IX\"\n",
    "Output: 9\n",
    "```\n",
    "\n",
    "**Example 4:**\n",
    "\n",
    "```\n",
    "Input: \"LVIII\"\n",
    "Output: 58\n",
    "```\n",
    "Explanation: L = 50, V= 5, III = 3.\n",
    "\n",
    "**Example 5:**\n",
    "\n",
    "```\n",
    "Input: \"MCMXCIV\"\n",
    "Output: 1994\n",
    "```\n",
    "Explanation: M = 1000, CM = 900, XC = 90 and IV = 4.\n",
    "\n"
   ]
  },
  {
   "cell_type": "code",
   "execution_count": 1,
   "metadata": {},
   "outputs": [],
   "source": [
    "assertions = (\n",
    "    (\"III\", 3),\n",
    "    (\"IV\", 4),\n",
    "    (\"IX\", 9),\n",
    "    (\"LVIII\", 58),\n",
    "    (\"MCMXCIV\", 1994),\n",
    ")"
   ]
  },
  {
   "cell_type": "markdown",
   "metadata": {},
   "source": [
    "## First approach, sum one by one with skip\n",
    "\n",
    "It loops over chars paying attention to double groups (those that need two letters) in which case adds zero to the total sum.\n",
    "\n",
    "This scored quite nice in memory: 13.8mb less than 84% but very poor performace 96ms only faster than 5.95%"
   ]
  },
  {
   "cell_type": "code",
   "execution_count": 17,
   "metadata": {},
   "outputs": [
    {
     "data": {
      "text/plain": [
       "58"
      ]
     },
     "execution_count": 17,
     "metadata": {},
     "output_type": "execute_result"
    }
   ],
   "source": [
    "def romanToInt(s):\n",
    "    total = skip =  0\n",
    "    values = {\n",
    "        \"I\": 1, \"V\": 5, \"X\": 10, \"L\": 50, \"C\": 100, \"D\": 500, \"M\": 1000, }\n",
    "    for n, letter in enumerate(s):\n",
    "        if skip:\n",
    "            add_this = skip = 0\n",
    "        else:\n",
    "            if n < len(s) - 1:\n",
    "                nxt = s[n + 1]\n",
    "                if letter == \"I\" and nxt in (\"V\", \"X\"):\n",
    "                    add_this = values[nxt] - values[letter]\n",
    "                    skip = 1\n",
    "                elif letter == \"X\" and nxt in(\"L\", \"C\"):\n",
    "                    add_this = values[nxt] - values[letter]\n",
    "                    skip = 1\n",
    "                elif letter == \"C\" and nxt in (\"D\", \"M\"):\n",
    "                    add_this = values[nxt] - values[letter]\n",
    "                    skip = 1\n",
    "                else:\n",
    "                    add_this = values[letter]\n",
    "                    skip = 0\n",
    "            else:\n",
    "                add_this = values[letter]\n",
    "        total += add_this\n",
    "    return total\n",
    "romanToInt(\"LVIII\")"
   ]
  },
  {
   "cell_type": "code",
   "execution_count": 18,
   "metadata": {},
   "outputs": [
    {
     "name": "stdout",
     "output_type": "stream",
     "text": [
      "5.38 µs ± 35.4 ns per loop (mean ± std. dev. of 7 runs, 100000 loops each)\n"
     ]
    }
   ],
   "source": [
    "%%timeit\n",
    "for i, o in assertions:\n",
    "    romanToInt(i) == o"
   ]
  },
  {
   "cell_type": "markdown",
   "metadata": {},
   "source": [
    "## Regex approach\n",
    "\n",
    "We'll sum all the values and then substract the special combinations. It seems that those special combinations always substract the same amount depending on the initial char: `I = -2`, `X = -20` and `C = -200`\n",
    "\n",
    "Despite of `%%timeit` outcome this scored better than previous on leetcode 68ms (34%) with similar memory usage (13.8Mb)"
   ]
  },
  {
   "cell_type": "code",
   "execution_count": 4,
   "metadata": {},
   "outputs": [],
   "source": [
    "import re\n",
    "def romanToInt(s):\n",
    "    i = len(re.findall(\"I\", s))\n",
    "    v = 5 * len(re.findall(\"V\", s))\n",
    "    x = 10 * len(re.findall(\"X\", s))\n",
    "    l = 50 * len(re.findall(\"L\", s))\n",
    "    c = 100 * len(re.findall(\"C\", s))\n",
    "    d = 500 * len(re.findall(\"D\", s))\n",
    "    m = 1000 * len(re.findall(\"M\", s))\n",
    "    total = i + v + x + l + c + d + m\n",
    "    if i:\n",
    "        total += -2 * len(re.findall(\"IV|IX\", s))\n",
    "    if x:\n",
    "        total += -20 * len(re.findall(\"XL|XC\", s))\n",
    "    if c:\n",
    "        total += -200 * len(re.findall(\"CM|CD\", s))\n",
    "    \n",
    "    return total\n",
    "assert romanToInt(\"MCMXCIV\") == 1994"
   ]
  },
  {
   "cell_type": "code",
   "execution_count": 42,
   "metadata": {},
   "outputs": [
    {
     "name": "stdout",
     "output_type": "stream",
     "text": [
      "23.9 µs ± 94.4 ns per loop (mean ± std. dev. of 7 runs, 10000 loops each)\n"
     ]
    }
   ],
   "source": [
    "%%timeit\n",
    "for i, o in assertions:\n",
    "    romanToInt(i) == o"
   ]
  },
  {
   "cell_type": "markdown",
   "metadata": {},
   "source": [
    "## Mix between iteration & regex\n",
    "On this approach letters are iterated and then the special combinations substracted. Tried at first to locate I, X and C chars using a regex to determine if a substraction is necessary but found that this is slower.\n",
    "\n",
    "It scored 60ms (42.46%, rising) and 13.8Mb"
   ]
  },
  {
   "cell_type": "code",
   "execution_count": 5,
   "metadata": {},
   "outputs": [],
   "source": [
    "import re\n",
    "def romanToInt(s):\n",
    "    total = 0\n",
    "    values = {\n",
    "        \"I\": 1, \"V\": 5, \"X\": 10, \"L\": 50, \"C\": 100, \"D\": 500, \"M\": 1000, }\n",
    "    for letter in s:\n",
    "        total += values[letter]\n",
    "    total += -2 * len(re.findall(\"IV|IX\", s))\n",
    "    total += -20 * len(re.findall(\"XL|XC\", s))\n",
    "    total += -200 * len(re.findall(\"CM|CD\", s))\n",
    "    \n",
    "    return total\n",
    "assert romanToInt(\"MCMXCIV\") == 1994"
   ]
  },
  {
   "cell_type": "code",
   "execution_count": 16,
   "metadata": {},
   "outputs": [
    {
     "name": "stdout",
     "output_type": "stream",
     "text": [
      "11.8 µs ± 46 ns per loop (mean ± std. dev. of 7 runs, 100000 loops each)\n"
     ]
    }
   ],
   "source": [
    "%%timeit\n",
    "for i, o in assertions:\n",
    "    romanToInt(i) == o"
   ]
  },
  {
   "cell_type": "markdown",
   "metadata": {},
   "source": [
    "## For loop aproach with substraction\n",
    "\n",
    "Just add up all the letters and substract the special cases without the regex.\n",
    "\n",
    "This scored even better: 48ms (76.35%) & 13.8Mb"
   ]
  },
  {
   "cell_type": "code",
   "execution_count": 8,
   "metadata": {},
   "outputs": [],
   "source": [
    "def romanToInt(s):\n",
    "    total = 0\n",
    "    if len(s) == 0 or s == \"\":\n",
    "        return total\n",
    "    values = {\n",
    "        \"I\": 1, \"V\": 5, \"X\": 10, \"L\": 50, \"C\": 100, \"D\": 500, \"M\": 1000, }\n",
    "    for n, letter in enumerate(s):\n",
    "        total += values[letter]\n",
    "        if n < len(s) - 1:\n",
    "            if letter == \"I\" and s[n+1] in (\"V\", \"X\"):\n",
    "                total -= 2\n",
    "            elif letter == \"X\" and s[n+1] in(\"L\", \"C\"):\n",
    "                total -= 20\n",
    "            elif letter == \"C\" and s[n+1] in (\"D\", \"M\"):\n",
    "                total -= 200\n",
    "    return total\n",
    "romanToInt(\"MCMXCIV\")"
   ]
  },
  {
   "cell_type": "code",
   "execution_count": 24,
   "metadata": {},
   "outputs": [
    {
     "name": "stdout",
     "output_type": "stream",
     "text": [
      "5.35 µs ± 32.6 ns per loop (mean ± std. dev. of 7 runs, 100000 loops each)\n"
     ]
    }
   ],
   "source": [
    "%%timeit\n",
    "for i, o in assertions:\n",
    "    romanToInt(i) == o"
   ]
  },
  {
   "cell_type": "markdown",
   "metadata": {},
   "source": [
    "## While loop approach with conditional test over cases\n",
    "\n",
    "Copy of a C++ implementation. Loop over elements with a while loop (so some steps can be skipped) and evaluate each value indepentely using conditionals. When a special case is found it skips one step on the loop by substracting 2 in the counter.\n",
    "\n",
    "This scored: 56ms (49.05%) & 13.9Mb"
   ]
  },
  {
   "cell_type": "code",
   "execution_count": 15,
   "metadata": {},
   "outputs": [
    {
     "data": {
      "text/plain": [
       "1994"
      ]
     },
     "execution_count": 15,
     "metadata": {},
     "output_type": "execute_result"
    }
   ],
   "source": [
    "def romanToInt(s):\n",
    "    total = n = 0\n",
    "    size = len(s)\n",
    "    if size == 0:\n",
    "        return total\n",
    "    while n < size:\n",
    "        if n < size -1:\n",
    "            nxt = s[n + 1]\n",
    "        else:\n",
    "            nxt = False\n",
    "        if s[n] == \"I\":\n",
    "            if nxt == \"V\":\n",
    "                total += 4\n",
    "                n += 2\n",
    "            elif nxt == \"X\":\n",
    "                total += 9\n",
    "                n += 2\n",
    "            else:\n",
    "                total += 1\n",
    "                n += 1\n",
    "        elif s[n] == \"X\":\n",
    "            if nxt == \"L\":\n",
    "                total += 40\n",
    "                n += 2\n",
    "            elif nxt == \"C\":\n",
    "                total += 90\n",
    "                n += 2\n",
    "            else:\n",
    "                total += 10\n",
    "                n += 1\n",
    "        elif s[n] == \"C\":\n",
    "            if nxt == \"D\":\n",
    "                total += 400\n",
    "                n += 2\n",
    "            elif nxt == \"M\":\n",
    "                total += 900\n",
    "                n += 2\n",
    "            else:\n",
    "                total += 100\n",
    "                n += 1\n",
    "        elif s[n] == \"V\":\n",
    "            total += 5\n",
    "            n += 1\n",
    "        elif s[n] == \"L\":\n",
    "            total += 50\n",
    "            n += 1\n",
    "        elif s[n] == \"D\":\n",
    "            total += 500\n",
    "            n += 1\n",
    "        elif s[n] == \"M\":\n",
    "            total += 1000\n",
    "            n += 1\n",
    "    return total\n",
    "romanToInt(\"MCMXCIV\")"
   ]
  },
  {
   "cell_type": "code",
   "execution_count": 24,
   "metadata": {},
   "outputs": [
    {
     "name": "stdout",
     "output_type": "stream",
     "text": [
      "5.35 µs ± 32.6 ns per loop (mean ± std. dev. of 7 runs, 100000 loops each)\n"
     ]
    }
   ],
   "source": [
    "%%timeit\n",
    "for i, o in assertions:\n",
    "    romanToInt(i) == o"
   ]
  },
  {
   "cell_type": "markdown",
   "metadata": {},
   "source": [
    "# Valid palindrome #125\n",
    "\n",
    "[Exercise](https://leetcode.com/problems/valid-palindrome/)\n",
    "\n",
    "Given a string, determine if it is a palindrome, considering only alphanumeric characters and ignoring cases.\n",
    "\n",
    "**Note:** For the purpose of this problem, we define empty string as valid palindrome.\n",
    "\n",
    "**Example 1:**\n",
    "\n",
    "* **Input:** \"A man, a plan, a canal: Panama\"\n",
    "* **Output:** true\n",
    "\n",
    "**Example 2:**\n",
    "\n",
    "* **Input:** \"race a car\"\n",
    "* **Output:** false\n",
    "\n",
    " \n",
    "\n",
    "**Constraints:**\n",
    "\n",
    "`s` consists only of printable ASCII characters."
   ]
  },
  {
   "cell_type": "markdown",
   "metadata": {},
   "source": [
    "## Regex approach \\w\n",
    "\n",
    "It seems obvious that we should use a regex to exclude noisy chars from the string (everything else that is not a letter or number.\n",
    "This first approach makes use of `\\w` and convert the matched chars into a string.\n",
    "\n",
    "It scored **60ms - 45%**"
   ]
  },
  {
   "cell_type": "code",
   "execution_count": 3,
   "metadata": {
    "jupyter": {
     "source_hidden": true
    }
   },
   "outputs": [],
   "source": [
    "import re\n",
    "# A string for testing\n",
    "test_str = \"a String with numb3rs, commas%, semicolons; and curly brackets{}\"\n",
    "s = \"A man, a plan, a canal: Panama\"\n",
    "\n",
    "def isPalindrome(s):\n",
    "    x = re.findall(\"\\w\", s)\n",
    "    x = ''.join(x).lower()\n",
    "    x = x.replace('_', '')  # \\w allows the underscore\n",
    "\n",
    "    half = len(x) // 2\n",
    "    fwd, bwd = 0, len(x) - 1\n",
    "    for _ in range(half):\n",
    "        if x[fwd] != x[bwd]:\n",
    "            return False\n",
    "        fwd += 1\n",
    "        bwd -= 1\n",
    "    return True"
   ]
  },
  {
   "cell_type": "code",
   "execution_count": 4,
   "metadata": {
    "jupyter": {
     "source_hidden": true
    }
   },
   "outputs": [
    {
     "name": "stdout",
     "output_type": "stream",
     "text": [
      "4.76 µs ± 30.9 ns per loop (mean ± std. dev. of 7 runs, 100000 loops each)\n"
     ]
    }
   ],
   "source": [
    "%%timeit\n",
    "isPalindrome(s)"
   ]
  },
  {
   "cell_type": "markdown",
   "metadata": {},
   "source": [
    "## Regex approach [0-9A-Za-z]\n",
    "This approach refines above by:\n",
    "* It's not necessary to convert back into a string \n",
    "* Replacig the regex form `\\w` to `[0-9A-Za-z]` allows to get rid of replacement of the underscore\n",
    "\n",
    "It scored **52ms - 67%**"
   ]
  },
  {
   "cell_type": "code",
   "execution_count": 5,
   "metadata": {
    "jupyter": {
     "source_hidden": true
    }
   },
   "outputs": [
    {
     "data": {
      "text/plain": [
       "True"
      ]
     },
     "execution_count": 5,
     "metadata": {},
     "output_type": "execute_result"
    }
   ],
   "source": [
    "import re\n",
    "# A string for testing\n",
    "test_str = \"a String with numb3rs, commas%, semicolons; and curly brackets{}\"\n",
    "s = \"A man, a plan, a canal: Panama\"\n",
    "\n",
    "def isPalindrome(s):\n",
    "    x = re.findall(\"[0-9A-Za-z]\", s)\n",
    "    bwd = len(x) - 1\n",
    "    for fwd in range(len(x) // 2):\n",
    "        if x[fwd].lower() != x[bwd].lower():\n",
    "            return False\n",
    "        bwd -= 1\n",
    "    return True\n",
    "isPalindrome(s)"
   ]
  },
  {
   "cell_type": "code",
   "execution_count": 6,
   "metadata": {
    "jupyter": {
     "source_hidden": true
    }
   },
   "outputs": [
    {
     "name": "stdout",
     "output_type": "stream",
     "text": [
      "4.95 µs ± 31.1 ns per loop (mean ± std. dev. of 7 runs, 100000 loops each)\n"
     ]
    }
   ],
   "source": [
    "%%timeit\n",
    "isPalindrome(s)"
   ]
  },
  {
   "cell_type": "markdown",
   "metadata": {},
   "source": [
    "## Regex without converting the entire string\n",
    "\n",
    "This is more elaborated and almost 3 times less efficient than previous attempts. Thought that I could get rid of converting the entire string to a valid one at the expense of comparing each char and determining whether they are valid. This introduced extra complexity because the mid point had to be recalculated each time the loop hits a void char.\n",
    "\n",
    "Submission returned **176ms & 5.27%**"
   ]
  },
  {
   "cell_type": "code",
   "execution_count": 7,
   "metadata": {
    "jupyter": {
     "source_hidden": true
    }
   },
   "outputs": [
    {
     "data": {
      "text/plain": [
       "True"
      ]
     },
     "execution_count": 7,
     "metadata": {},
     "output_type": "execute_result"
    }
   ],
   "source": [
    "import re\n",
    "# A string for testing\n",
    "test_str = \"a String with numb3rs, commas%, semicolons; and curly brackets{}\"\n",
    "s = \"A man, a plan, a canal: Panama\"\n",
    "def isPalindrome(s):\n",
    "    # True positions in the original string, ie, including special chars\n",
    "    fwd, bwd = 0, len(s) - 1\n",
    "    \n",
    "    # Relative dynamic values\n",
    "    valid_len = len(s)  # this updates when excluding chars\n",
    "    dynamic_middle = valid_len // 2  # starting point for middle\n",
    "    dynamic_fwd = 0  # fwd position without the special chars\n",
    "    valid_chars = \"[0-9A-Za-z]\"\n",
    "    while dynamic_fwd != dynamic_middle:\n",
    "        # first ensure the chars are valid\n",
    "        test_fwd, test_bwd = [\n",
    "            re.match(valid_chars, s[way]) for way in (fwd, bwd)]\n",
    "        if test_fwd and test_bwd:\n",
    "            # both chars are valid and we can compare them\n",
    "            if s[fwd].lower() != s[bwd].lower():\n",
    "                # they don't match, so break\n",
    "                return False\n",
    "            # otherwise advance one position in the chain\n",
    "            fwd += 1\n",
    "            bwd -= 1\n",
    "            dynamic_fwd += 1\n",
    "        if not test_fwd:\n",
    "            # Foward char is forbidden\n",
    "            valid_len -= 1\n",
    "            dynamic_middle = valid_len // 2  # recalculate the middle point\n",
    "            fwd += 1\n",
    "        if not test_bwd:\n",
    "            # Backward char is forbidden\n",
    "            valid_len -= 1\n",
    "            dynamic_middle = valid_len // 2  # recalculate the middle point\n",
    "            bwd -= 1\n",
    "    \n",
    "    # If all the chars match the string is a palindrome\n",
    "    return True\n",
    "        \n",
    "isPalindrome(s)"
   ]
  },
  {
   "cell_type": "code",
   "execution_count": 8,
   "metadata": {
    "jupyter": {
     "source_hidden": true
    }
   },
   "outputs": [
    {
     "name": "stdout",
     "output_type": "stream",
     "text": [
      "30.7 µs ± 232 ns per loop (mean ± std. dev. of 7 runs, 10000 loops each)\n"
     ]
    }
   ],
   "source": [
    "%%timeit\n",
    "isPalindrome(s)"
   ]
  },
  {
   "cell_type": "markdown",
   "metadata": {},
   "source": [
    "## `isalnum()` solution\n",
    "It seems that one can use `isalnum()` string method instead of regex. Also, it's not necessary to calculate middle points, just simply keep the loop running while forward is below backward.\n",
    "\n",
    "This scored slightly worse than Regex [0-9A-Za-z] approach, **56ms & 47%** but with better memory performance **14.3mb**"
   ]
  },
  {
   "cell_type": "code",
   "execution_count": 9,
   "metadata": {
    "jupyter": {
     "source_hidden": true
    }
   },
   "outputs": [
    {
     "data": {
      "text/plain": [
       "True"
      ]
     },
     "execution_count": 9,
     "metadata": {},
     "output_type": "execute_result"
    }
   ],
   "source": [
    "test_str = \"a String with numb3rs, commas%, semicolons; and curly brackets{}\"\n",
    "s = \"A man, a plan, a canal: Panama\"\n",
    "def isPalindrome(s):\n",
    "    fwd, bwd = 0, len(s) - 1\n",
    "    while fwd < bwd:\n",
    "        while fwd < bwd and not s[fwd].isalnum():\n",
    "            fwd += 1\n",
    "        while fwd < bwd and not s[bwd].isalnum():\n",
    "            bwd -= 1\n",
    "        if s[fwd].lower() != s[bwd].lower():\n",
    "            return False\n",
    "        fwd += 1\n",
    "        bwd -= 1\n",
    "    return True\n",
    "isPalindrome(s)"
   ]
  },
  {
   "cell_type": "code",
   "execution_count": 10,
   "metadata": {
    "jupyter": {
     "source_hidden": true
    }
   },
   "outputs": [
    {
     "name": "stdout",
     "output_type": "stream",
     "text": [
      "4.28 µs ± 36.5 ns per loop (mean ± std. dev. of 7 runs, 100000 loops each)\n"
     ]
    }
   ],
   "source": [
    "%%timeit\n",
    "isPalindrome(s)"
   ]
  },
  {
   "cell_type": "markdown",
   "metadata": {},
   "source": [
    "## Regex substitution\n",
    "We can make use of regex substitution directly and compare the string without even loop over by using `:` slice notation\n",
    "This approach worked best to date: **36ms & 95%**"
   ]
  },
  {
   "cell_type": "code",
   "execution_count": 32,
   "metadata": {
    "jupyter": {
     "source_hidden": true
    }
   },
   "outputs": [
    {
     "data": {
      "text/plain": [
       "True"
      ]
     },
     "execution_count": 32,
     "metadata": {},
     "output_type": "execute_result"
    }
   ],
   "source": [
    "import re\n",
    "test_str = \"a String with_ numb3rs, commas%, semicolons; and curly brackets{}\"\n",
    "s = \"A man, a plan,_ a canal: Panama\"\n",
    "def isPalindrome(s):\n",
    "        if not s:\n",
    "            return True\n",
    "        s = re.sub('[^\\w]', '', s)\n",
    "        p = s.lower().replace('_', '')  # replace\n",
    "        return p == p[::-1]\n",
    "isPalindrome(s)"
   ]
  },
  {
   "cell_type": "code",
   "execution_count": 33,
   "metadata": {
    "jupyter": {
     "source_hidden": true
    }
   },
   "outputs": [
    {
     "name": "stdout",
     "output_type": "stream",
     "text": [
      "2.61 µs ± 26.2 ns per loop (mean ± std. dev. of 7 runs, 100000 loops each)\n"
     ]
    }
   ],
   "source": [
    "%%timeit\n",
    "isPalindrome(s)"
   ]
  },
  {
   "cell_type": "markdown",
   "metadata": {},
   "source": [
    "It seems that getting rid of the evaluation of `s` we can sqezee a bit the efficiency: **32ms & 98%.** It also turned out that `replace()` and its regex counterpart perform the same."
   ]
  },
  {
   "cell_type": "code",
   "execution_count": 38,
   "metadata": {
    "jupyter": {
     "source_hidden": true
    }
   },
   "outputs": [
    {
     "data": {
      "text/plain": [
       "True"
      ]
     },
     "execution_count": 38,
     "metadata": {},
     "output_type": "execute_result"
    }
   ],
   "source": [
    "import re\n",
    "test_str = \"a String with_ numb3rs, commas%, semicolons; and curly brackets{}\"\n",
    "s = \"A man, a plan,_ a canal: Panama\"\n",
    "def isPalindrome(s):\n",
    "        s = re.sub('[_]|[^\\w]', '', s)  # replace everything but alphanumeric\n",
    "        p = s.lower()\n",
    "        return p == p[::-1]\n",
    "isPalindrome(s)"
   ]
  },
  {
   "cell_type": "code",
   "execution_count": 39,
   "metadata": {
    "jupyter": {
     "source_hidden": true
    }
   },
   "outputs": [
    {
     "name": "stdout",
     "output_type": "stream",
     "text": [
      "2.98 µs ± 20.2 ns per loop (mean ± std. dev. of 7 runs, 100000 loops each)\n"
     ]
    }
   ],
   "source": [
    "%%timeit\n",
    "isPalindrome(s)"
   ]
  },
  {
   "cell_type": "markdown",
   "metadata": {},
   "source": [
    "# Palindrome linked list #234\n",
    "**[exercise](https://leetcode.com/problems/palindrome-linked-list/)**  \n",
    "\n",
    "Given a singly linked list, determine if it is a palindrome.\n",
    "\n",
    "Example 1:\n",
    "\n",
    "Input: 1->2\n",
    "Output: false\n",
    "\n",
    "Example 2:\n",
    "\n",
    "Input: 1->2->2->1\n",
    "Output: true\n",
    "\n",
    "Follow up:\n",
    "Could you do it in O(n) time and O(1) space?\n",
    "\n",
    "---\n",
    "Basically you have an input like this:\n",
    "`{'val': 3, 'next': {'val': 5, 'next': None}}`"
   ]
  },
  {
   "cell_type": "code",
   "execution_count": 1,
   "metadata": {
    "jupyter": {
     "source_hidden": true
    }
   },
   "outputs": [],
   "source": [
    "tests = [\n",
    "    [0, 2, 3, 3, 2, 0],\n",
    "    [0, 3, 3, 3, 2, 0],\n",
    "    [0, 2, 3, 2, 0],\n",
    "    [1, 2, 3, 4, 5],\n",
    "    [0, 0],\n",
    "    [-190,-190], \n",
    "]\n",
    "\n",
    "class listNode:\n",
    "    def __init__(self, val, next=None):\n",
    "        self.val = val\n",
    "        self.next = next\n",
    "\n",
    "def create_ln(array):\n",
    "    ln = listNode(array[0])\n",
    "\n",
    "    for n in array[1: ]:\n",
    "        ln = listNode(n, ln)\n",
    "    return ln\n",
    "\n",
    "ln = create_ln(tests[0])"
   ]
  },
  {
   "cell_type": "markdown",
   "metadata": {},
   "source": [
    "## List approach\n",
    "The following three approaches make use of a list the first is filled upwards and the last backwards. Then both are compared. When the first submission was made I thought that maybe comparing half of the arrays could improve the speed, however it was clearly worse especially on the last submission to leetcode (not noticeable in the notebook, both perform in 1.35µs & 1.34µs) maybe because of the tests applied there."
   ]
  },
  {
   "cell_type": "code",
   "execution_count": 7,
   "metadata": {
    "jupyter": {
     "source_hidden": true
    }
   },
   "outputs": [
    {
     "name": "stdout",
     "output_type": "stream",
     "text": [
      "Case: [0, 2, 3, 3, 2, 0] => True\n",
      "Case: [0, 3, 3, 3, 2, 0] => False\n",
      "Case: [0, 2, 3, 2, 0] => True\n",
      "Case: [1, 2, 3, 4, 5] => False\n",
      "Case: [0, 0] => True\n",
      "Case: [-190, -190] => True\n"
     ]
    }
   ],
   "source": [
    "def isPalindrome(ln):\n",
    "    \"\"\"\n",
    "    Build an array forward and another one backward and then compare both.\n",
    "    \n",
    "    Too computational expensive.    \n",
    "    \"\"\"\n",
    "    fwd, bwd = list(), list()\n",
    "    while ln:\n",
    "        fwd.append(ln.val)\n",
    "        bwd.insert(0, ln.val)\n",
    "        ln = ln.next if ln.next else None\n",
    "    return fwd == bwd\n",
    "\n",
    "for array in tests:\n",
    "    ln = create_ln(array)\n",
    "    print('Case: {} => {}'.format(array, isPalindrome(ln)))"
   ]
  },
  {
   "cell_type": "code",
   "execution_count": 6,
   "metadata": {
    "jupyter": {
     "source_hidden": true
    }
   },
   "outputs": [
    {
     "name": "stdout",
     "output_type": "stream",
     "text": [
      "1.1 µs ± 15.8 ns per loop (mean ± std. dev. of 7 runs, 1000000 loops each)\n"
     ]
    }
   ],
   "source": [
    "%%timeit\n",
    "isPalindrome(create_ln(array))"
   ]
  },
  {
   "cell_type": "code",
   "execution_count": 8,
   "metadata": {
    "collapsed": true,
    "jupyter": {
     "outputs_hidden": true,
     "source_hidden": true
    }
   },
   "outputs": [
    {
     "name": "stdout",
     "output_type": "stream",
     "text": [
      "Case: [0, 2, 3, 3, 2, 0] => True\n",
      "Case: [0, 3, 3, 3, 2, 0] => False\n",
      "Case: [0, 2, 3, 2, 0] => True\n",
      "Case: [1, 2, 3, 4, 5] => False\n",
      "Case: [0, 0] => True\n",
      "Case: [-190, -190] => True\n"
     ]
    }
   ],
   "source": [
    "def isPalindrome(ln):\n",
    "    \"\"\"\n",
    "    Build an array forward and another one backward and then compare both.\n",
    "    \n",
    "    Let's compare just the half of the array. Performed sightly worse than\n",
    "    previous one.   \n",
    "    \"\"\"\n",
    "    fwd, bwd = list(), list()\n",
    "    while ln:\n",
    "        fwd.append(ln.val)\n",
    "        bwd.insert(0, ln.val)\n",
    "        ln = ln.next if ln.next else None\n",
    "    split = int(1 + (len(fwd) // 2) if len(fwd) % 2 else len(fwd) / 2)\n",
    "    return fwd[:split] == bwd[:split]\n",
    "\n",
    "for array in tests:\n",
    "    ln = create_ln(array)\n",
    "    print('Case: {} => {}'.format(array, isPalindrome(ln)))"
   ]
  },
  {
   "cell_type": "code",
   "execution_count": 9,
   "metadata": {
    "jupyter": {
     "source_hidden": true
    }
   },
   "outputs": [
    {
     "name": "stdout",
     "output_type": "stream",
     "text": [
      "1.35 µs ± 3.37 ns per loop (mean ± std. dev. of 7 runs, 1000000 loops each)\n"
     ]
    }
   ],
   "source": [
    "%%timeit\n",
    "isPalindrome(create_ln(array))"
   ]
  },
  {
   "cell_type": "code",
   "execution_count": 10,
   "metadata": {
    "collapsed": true,
    "jupyter": {
     "outputs_hidden": true,
     "source_hidden": true
    }
   },
   "outputs": [
    {
     "name": "stdout",
     "output_type": "stream",
     "text": [
      "Case: [0, 2, 3, 3, 2, 0] => True\n",
      "Case: [0, 3, 3, 3, 2, 0] => False\n",
      "Case: [0, 2, 3, 2, 0] => True\n",
      "Case: [1, 2, 3, 4, 5] => False\n",
      "Case: [0, 0] => True\n",
      "Case: [-190, -190] => True\n"
     ]
    }
   ],
   "source": [
    "def isPalindrome(ln):\n",
    "    \"\"\"\n",
    "    Create an array where forward part will be stored from the half on and \n",
    "    backward part will be stored in the beginning.\n",
    "    \n",
    "    This is even worse than the previous: 1544ms!!\n",
    "    \"\"\"\n",
    "    fwd = list()\n",
    "    while ln:\n",
    "        fwd.append(ln.val)\n",
    "        fwd.insert(0, ln.val)\n",
    "        ln = ln.next if ln.next else None\n",
    "    half = len(fwd) // 2\n",
    "    quarter = half // 2\n",
    "    return fwd[:half][:quarter] == fwd[half:][:quarter]\n",
    "\n",
    "for array in tests:\n",
    "    ln = create_ln(array)\n",
    "    print('Case: {} => {}'.format(array, isPalindrome(ln)))"
   ]
  },
  {
   "cell_type": "code",
   "execution_count": 11,
   "metadata": {
    "jupyter": {
     "source_hidden": true
    }
   },
   "outputs": [
    {
     "name": "stdout",
     "output_type": "stream",
     "text": [
      "1.34 µs ± 2.81 ns per loop (mean ± std. dev. of 7 runs, 1000000 loops each)\n"
     ]
    }
   ],
   "source": [
    "%%timeit\n",
    "isPalindrome(create_ln(array))"
   ]
  },
  {
   "cell_type": "markdown",
   "metadata": {},
   "source": [
    "## Fast & slow approach\n",
    "This solution proposed by [Stefan Pochmann](https://leetcode.com/problems/palindrome-linked-list/discuss/64500/11-lines-12-with-restore-O(n)-time-O(1)-space) is quite smart. It makes a reversed copy of the first half and compares one by one against the second half. How do we find the half? just double jump in linked list to reach the end in the half moves. \n",
    "\n",
    "It has a tricky part that has to do with python assignments: `rev, rev.next, slow = slow, rev, slow.next`. In this expression the right hand side is evaluated before making any assignment to the left. Then, one by one are assigned so, in the first loop, `rev` takes the value of `slow`, the original ln; `rev.next`, whose value has been updated to be equal to `slow.next`, changes its value to `None` the previous value stored for `rev`; finally `slow` is shifted to its next value.\n",
    "\n",
    "The takeaway here is that in every loop, `rev` takes all the diminishing slow linked list but afterwards it drops all the values but the current one and replaces them by the already reversed array."
   ]
  },
  {
   "cell_type": "code",
   "execution_count": 12,
   "metadata": {
    "jupyter": {
     "source_hidden": true
    }
   },
   "outputs": [
    {
     "name": "stdout",
     "output_type": "stream",
     "text": [
      "Case: [0, 2, 3, 3, 2, 0] => True\n",
      "Case: [0, 3, 3, 3, 2, 0] => False\n",
      "Case: [0, 2, 3, 2, 0] => True\n",
      "Case: [1, 2, 3, 4, 5] => False\n",
      "Case: [0, 0] => True\n",
      "Case: [-190, -190] => True\n"
     ]
    }
   ],
   "source": [
    "def isPalindrome(head):\n",
    "    \"\"\"\n",
    "    Make a reversed version of the first half and then match against the second\n",
    "    half.\n",
    "    \"\"\"\n",
    "    rev = None\n",
    "    slow = fast = head\n",
    "    while fast and fast.next:\n",
    "        # Jump two positions forward so, we'll run out of numbers to loop with\n",
    "        # in the middle\n",
    "        fast = fast.next.next\n",
    "        rev, rev.next, slow = slow, rev, slow.next  # The tricky part\n",
    "    if fast:\n",
    "        # if the list is odd, there's still one more element in the middle\n",
    "        slow = slow.next\n",
    "    while rev and rev.val == slow.val:\n",
    "        # Finally compare rev linked list and the remaining slow, the last half\n",
    "        slow = slow.next\n",
    "        rev = rev.next\n",
    "    # if the loop reaches the end rev stops at None so flip the bool of rev \n",
    "    return not rev\n",
    "for array in tests:\n",
    "    ln = create_ln(array)\n",
    "    print('Case: {} => {}'.format(array, isPalindrome(ln)))"
   ]
  },
  {
   "cell_type": "code",
   "execution_count": 13,
   "metadata": {
    "jupyter": {
     "source_hidden": true
    }
   },
   "outputs": [
    {
     "name": "stdout",
     "output_type": "stream",
     "text": [
      "895 ns ± 1.65 ns per loop (mean ± std. dev. of 7 runs, 1000000 loops each)\n"
     ]
    }
   ],
   "source": [
    "%%timeit\n",
    "isPalindrome(create_ln(array))"
   ]
  },
  {
   "cell_type": "markdown",
   "metadata": {},
   "source": [
    "# Palindrome #9\n",
    "\n",
    "**[Exercise](https://leetcode.com/problems/palindrome-number/)**\n",
    "\n",
    "Determine whether an integer is a palindrome. An integer is a palindrome when it reads the same backward as forward.\n",
    "\n",
    "Example 1:\n",
    "\n",
    "Input: 121  \n",
    "Output: true\n",
    "\n",
    "Example 2:\n",
    "\n",
    "Input: -121  \n",
    "Output: false  \n",
    "Explanation: From left to right, it reads -121. From right to left, it becomes 121-. Therefore it is not a palindrome.\n",
    "\n",
    "Example 3:\n",
    "\n",
    "Input: 10  \n",
    "Output: false  \n",
    "Explanation: Reads 01 from right to left. Therefore it is not a palindrome.\n",
    "\n",
    "Follow up:\n",
    "\n",
    "Coud you solve it without converting the integer to a string?\n"
   ]
  },
  {
   "cell_type": "code",
   "execution_count": 44,
   "metadata": {
    "jupyter": {
     "source_hidden": true
    }
   },
   "outputs": [],
   "source": [
    "import numpy as np\n",
    "def assertions():\n",
    "    # define checks: input integer and expected output\n",
    "    checks = (\n",
    "        (121, True),\n",
    "        (-121, False),\n",
    "        (10, False),\n",
    "        (1001, True),\n",
    "        (0, True),\n",
    "        (1234567890987654321, True)\n",
    "    )\n",
    "    \n",
    "    failed = False\n",
    "    for c in checks:\n",
    "        E = isPalindrome(c[0])\n",
    "        if E != c[1]:\n",
    "            print('Expected outcome for {}: {}; returned: {}'.format(\n",
    "                   c[0], c[1], E,))\n",
    "            failed = True\n",
    "            break\n",
    "    if failed:\n",
    "        return"
   ]
  },
  {
   "cell_type": "markdown",
   "metadata": {},
   "source": [
    "## Length, list & loop\n",
    "There are three steeps in this approach:\n",
    "* Get the length of the integer\n",
    "* Build a list out of that length by int division of powers of ten\n",
    "* Test the positions in the list"
   ]
  },
  {
   "cell_type": "code",
   "execution_count": 51,
   "metadata": {
    "jupyter": {
     "source_hidden": true
    }
   },
   "outputs": [],
   "source": [
    "def isPalindrome(i):\n",
    "    # First, dismiss ints under 0\n",
    "    if i < 0:\n",
    "        return False\n",
    "    \n",
    "    # First thing to do is calculate the length of the int\n",
    "    length = 0\n",
    "    number = i\n",
    "    while number != 0:\n",
    "        length += 1\n",
    "        number //= 10\n",
    "        \n",
    "    # With that number we can create a list of the digits by decimal division\n",
    "    digits = list()\n",
    "    exp = length - 1  # Since we want the zero exponent\n",
    "    for _ in range(length):\n",
    "        digit = i // 10**exp\n",
    "        digits.append(digit)\n",
    "        i -= digit*10**exp\n",
    "        exp -= 1\n",
    "        \n",
    "    # Finally test the positions in the list\n",
    "    for idx in range(len(digits) // 2):\n",
    "        f, s = digits[idx], digits[-idx - 1]\n",
    "        if f != s:\n",
    "            return 0\n",
    "    return 1"
   ]
  },
  {
   "cell_type": "code",
   "execution_count": 52,
   "metadata": {
    "jupyter": {
     "source_hidden": true
    }
   },
   "outputs": [
    {
     "name": "stdout",
     "output_type": "stream",
     "text": [
      "19.6 µs ± 190 ns per loop (mean ± std. dev. of 7 runs, 10000 loops each)\n"
     ]
    }
   ],
   "source": [
    "%%timeit\n",
    "assertions()"
   ]
  },
  {
   "cell_type": "markdown",
   "metadata": {},
   "source": [
    "## LeetCode solution\n",
    "Start out by excluding border cases:\n",
    "* integers under 0\n",
    "* integers ending in 0 (but not 0 itself)\n",
    "\n",
    "Then reverse the first half of the integer, to do so:\n",
    "* Notice that the reverse of $12=1\\times 10^1 + 2\\times 10^0$ is $21=2\\times 10^1 + 1\\times 10^0$ \n",
    "* Grow by ten fold the already reversed number and add current last digit\n",
    "* Discard added digit from original number\n",
    "* Repeat until reversed number is greater than the remaining part of original number\n",
    "\n",
    "Also notice that when the original number's digits are odd, the central number can (and must) be excluded so the final comparison is either `remaining == reversed` or `remaining == reversed // 10` \n"
   ]
  },
  {
   "cell_type": "code",
   "execution_count": 50,
   "metadata": {},
   "outputs": [],
   "source": [
    "def isPalindrome(n):\n",
    "    # First, dismiss ints under 0\n",
    "    if n < 0 or (n % 10 == 0 and n != 0):\n",
    "        return False\n",
    "    rev = 0\n",
    "    while n > rev:\n",
    "        rev = rev * 10 + n % 10  # grow by ten fold and add current last digit \n",
    "        n //= 10  # discard added digit\n",
    "    \n",
    "    # Exclude central digit for odd number of digits\n",
    "    return rev == n or n == rev // 10"
   ]
  },
  {
   "cell_type": "code",
   "execution_count": 49,
   "metadata": {
    "jupyter": {
     "source_hidden": true
    }
   },
   "outputs": [
    {
     "name": "stdout",
     "output_type": "stream",
     "text": [
      "3.13 µs ± 38.5 ns per loop (mean ± std. dev. of 7 runs, 100000 loops each)\n"
     ]
    }
   ],
   "source": [
    "%%timeit\n",
    "assertions()"
   ]
  },
  {
   "cell_type": "markdown",
   "metadata": {},
   "source": [
    "# Reverse integer #7\n",
    "\n",
    "**[Exercise](https://leetcode.com/problems/reverse-integer/)**\n",
    "\n",
    "Given a 32-bit signed integer, reverse digits of an integer.\n",
    "\n",
    "Example 1:\n",
    "\n",
    "Input: 123  \n",
    "Output: 321\n",
    "\n",
    "Example 2:\n",
    "\n",
    "Input: -123  \n",
    "Output: -321\n",
    "\n",
    "Example 3:\n",
    "\n",
    "Input: 120  \n",
    "Output: 21\n",
    "\n",
    "Note:  \n",
    "Assume we are dealing with an environment which could only store integers within the 32-bit signed integer range: $[−2^{31},  2^{31} − 1]$. For the purpose of this problem, assume that your function returns 0 when the reversed integer overflows.\n"
   ]
  },
  {
   "cell_type": "code",
   "execution_count": 19,
   "metadata": {
    "jupyter": {
     "source_hidden": true
    }
   },
   "outputs": [],
   "source": [
    "import numpy as np\n",
    "def assertions():\n",
    "    # define checks: input integer and expected output\n",
    "    checks = (\n",
    "        (123, 321),\n",
    "        (-123, -321),\n",
    "        (120, 21),\n",
    "        (214748364, 463847412),\n",
    "        (2147483648, 0)  # Overflow\n",
    "    )\n",
    "    \n",
    "    failed = False\n",
    "    for c in checks:\n",
    "        E = reverse(c[0])\n",
    "        if E != c[1]:\n",
    "            print('Expected integer for {}: {}; returned: {}'.format(\n",
    "                   c[0], c[1], E,))\n",
    "            failed = True\n",
    "            break\n",
    "    if failed:\n",
    "        return"
   ]
  },
  {
   "cell_type": "markdown",
   "metadata": {},
   "source": [
    "## Exponentiation approach\n",
    "Multiply each digit in the int by growing powers of ten  \n",
    "\n",
    "$123 = 1\\times 10^2+2\\times 10^1+3\\times 10^0$  \n",
    "$321 = 1\\times 10^0+2\\times 10^1+3\\times 10^2$\n",
    "\n",
    "It ranked quite nice, over 73% "
   ]
  },
  {
   "cell_type": "code",
   "execution_count": 20,
   "metadata": {
    "jupyter": {
     "source_hidden": true
    }
   },
   "outputs": [],
   "source": [
    "def reverse(i):\n",
    "    # get the digits excluding the sign\n",
    "    negative = i < 0\n",
    "    digits = str(i)[1:] if negative else str(i)\n",
    "    outcome = 0\n",
    "    for e, d in enumerate(digits):\n",
    "        outcome += int(d)*10**e\n",
    "    \n",
    "    # rescue the sign (if any)\n",
    "    if negative:\n",
    "        outcome *= -1\n",
    "    \n",
    "    # Overflows int32\n",
    "    if outcome < -2**31 or outcome > 2**31-1:\n",
    "        outcome = 0\n",
    "        \n",
    "    return outcome\n"
   ]
  },
  {
   "cell_type": "code",
   "execution_count": 21,
   "metadata": {},
   "outputs": [
    {
     "name": "stdout",
     "output_type": "stream",
     "text": [
      "9.88 µs ± 33.3 ns per loop (mean ± std. dev. of 7 runs, 100000 loops each)\n"
     ]
    }
   ],
   "source": [
    "%%timeit\n",
    "assertions()"
   ]
  },
  {
   "cell_type": "markdown",
   "metadata": {},
   "source": [
    "# Running Sum of 1d Array (#1480)\n",
    "\n",
    "**[Exercise](https://leetcode.com/problems/running-sum-of-1d-array/)**\n",
    "\n",
    "Given an array `nums`. We define a running sum of an array as `runningSum[i] = sum(nums[0]…nums[i])`.\n",
    "\n",
    "Return the running sum of `nums`.\n",
    "\n",
    " \n",
    "\n",
    "Example 1:\n",
    "\n",
    "Input: nums = [1,2,3,4]  \n",
    "Output: [1,3,6,10]  \n",
    "Explanation: Running sum is obtained as follows: [1, 1+2, 1+2+3, 1+2+3+4].  \n",
    "\n",
    "Example 2:\n",
    "\n",
    "Input: nums = [1,1,1,1,1]  \n",
    "Output: [1,2,3,4,5]  \n",
    "Explanation: Running sum is obtained as follows: [1, 1+1, 1+1+1, 1+1+1+1, 1+1+1+1+1].  \n",
    "\n",
    "Example 3:\n",
    "\n",
    "Input: nums = [3,1,2,10,1]  \n",
    "Output: [3,4,6,16,17]  \n",
    "\n",
    " \n",
    "\n",
    "Constraints:\n",
    "\n",
    "* 1 <= nums.length <= 1000\n",
    "* -10^6 <= nums[i] <= 10^6"
   ]
  },
  {
   "cell_type": "code",
   "execution_count": 10,
   "metadata": {
    "jupyter": {
     "source_hidden": true
    }
   },
   "outputs": [],
   "source": [
    "import numpy as np\n",
    "def assertions():\n",
    "    # define checks: list, target, expected output\n",
    "    checks = (\n",
    "        ([1, 1, 1, 1], [1, 2, 3, 4,]),\n",
    "        ([1, 10, 20, 7], [1, 11, 31, 38]),\n",
    "        ([1, 2, 3, 4], [1, 3, 6, 10])\n",
    "    )\n",
    "    \n",
    "    failed = False\n",
    "    for c in checks:\n",
    "        E = runningSum(c[0])\n",
    "        if E != c[1]:\n",
    "            print('Expected array for {}: {}; returned: {}'.format(\n",
    "                   c[0], c[1], E,))\n",
    "            failed = True\n",
    "            break\n",
    "    if failed:\n",
    "        return"
   ]
  },
  {
   "cell_type": "markdown",
   "metadata": {},
   "source": [
    "## Numpy.cumsum() approach\n",
    "Maybe the shortest and easiest (but not the fastest) way to achieve it is the numpy's `cumsum()` method"
   ]
  },
  {
   "cell_type": "code",
   "execution_count": 11,
   "metadata": {
    "jupyter": {
     "source_hidden": true
    }
   },
   "outputs": [],
   "source": [
    "def runningSum(nums):\n",
    "    return np.array(nums).cumsum().tolist()"
   ]
  },
  {
   "cell_type": "code",
   "execution_count": 12,
   "metadata": {
    "jupyter": {
     "source_hidden": true
    }
   },
   "outputs": [
    {
     "name": "stdout",
     "output_type": "stream",
     "text": [
      "6.81 µs ± 212 ns per loop (mean ± std. dev. of 7 runs, 100000 loops each)\n"
     ]
    }
   ],
   "source": [
    "%%timeit\n",
    "assertions()"
   ]
  },
  {
   "cell_type": "markdown",
   "metadata": {},
   "source": [
    "## Simple Iterator approach"
   ]
  },
  {
   "cell_type": "code",
   "execution_count": 13,
   "metadata": {
    "jupyter": {
     "source_hidden": true
    }
   },
   "outputs": [],
   "source": [
    "def runningSum(nums):\n",
    "    output = nums[:1]\n",
    "    for number in nums[1:]:\n",
    "        output.append(output[-1] + number)\n",
    "    return output"
   ]
  },
  {
   "cell_type": "code",
   "execution_count": 14,
   "metadata": {
    "jupyter": {
     "source_hidden": true
    }
   },
   "outputs": [
    {
     "name": "stdout",
     "output_type": "stream",
     "text": [
      "1.84 µs ± 33.2 ns per loop (mean ± std. dev. of 7 runs, 1000000 loops each)\n"
     ]
    }
   ],
   "source": [
    "%%timeit\n",
    "assertions()"
   ]
  },
  {
   "cell_type": "markdown",
   "metadata": {},
   "source": [
    "A more succint, yet slower, one"
   ]
  },
  {
   "cell_type": "code",
   "execution_count": 15,
   "metadata": {
    "jupyter": {
     "source_hidden": true
    }
   },
   "outputs": [],
   "source": [
    "def runningSum(nums):\n",
    "    return [sum(nums[:idx+1]) for idx, _ in enumerate(nums)]"
   ]
  },
  {
   "cell_type": "code",
   "execution_count": 16,
   "metadata": {
    "jupyter": {
     "source_hidden": true
    }
   },
   "outputs": [
    {
     "name": "stdout",
     "output_type": "stream",
     "text": [
      "3.22 µs ± 12.7 ns per loop (mean ± std. dev. of 7 runs, 100000 loops each)\n"
     ]
    }
   ],
   "source": [
    "%%timeit\n",
    "assertions()"
   ]
  },
  {
   "cell_type": "code",
   "execution_count": 17,
   "metadata": {
    "jupyter": {
     "source_hidden": true
    }
   },
   "outputs": [],
   "source": [
    "def runningSums(nums):\n",
    "    for idx, number in enumerate(nums):\n",
    "        nums[idx] += nums[idx-1]\n",
    "    return nums"
   ]
  },
  {
   "cell_type": "code",
   "execution_count": 18,
   "metadata": {
    "jupyter": {
     "source_hidden": true
    }
   },
   "outputs": [
    {
     "name": "stdout",
     "output_type": "stream",
     "text": [
      "3.23 µs ± 23.8 ns per loop (mean ± std. dev. of 7 runs, 100000 loops each)\n"
     ]
    }
   ],
   "source": [
    "%%timeit\n",
    "assertions()"
   ]
  },
  {
   "cell_type": "markdown",
   "metadata": {},
   "source": [
    "# Two sum (#1)\n",
    "[Exercise](https://leetcode.com/problems/two-sum)\n",
    "\n",
    "Given an array of integers, return indices of the two numbers such that they add up to a specific target.\n",
    "\n",
    "You may assume that each input would have **exactly** one solution, and you may not use the same element twice.\n",
    "\n",
    "Example:\n",
    "\n",
    "Given `nums = [2, 7, 11, 15], target = 9`\n",
    "\n",
    "Because nums[0] + nums[1] = 2 + 7 = 9,  \n",
    "`return [0, 1]`\n",
    "\n"
   ]
  },
  {
   "cell_type": "code",
   "execution_count": 1,
   "metadata": {
    "jupyter": {
     "source_hidden": true
    }
   },
   "outputs": [],
   "source": [
    "def assertions():\n",
    "    # define checks: list, target, expected output\n",
    "    checks = (\n",
    "        ([-3, 4, 3, 90], 0, [0, 2]),\n",
    "        ([2, 7, 11, 15], 9, [0, 1]),\n",
    "        ([0, 0, 4, 7], 0, [0, 1]),\n",
    "        ([3, 2, 4], 6, [1, 2]),\n",
    "        ([-1, -2, -3, -4, -5], -8, [2, 4]),\n",
    "    )\n",
    "    \n",
    "    failed = False\n",
    "    for c in checks:\n",
    "        E = twoSum(c[0], c[1])\n",
    "        if E != c[2]:\n",
    "            print(c[0], c[1], E, c[2])\n",
    "            failed = True\n",
    "            break\n",
    "    if failed:\n",
    "        return"
   ]
  },
  {
   "cell_type": "markdown",
   "metadata": {},
   "source": [
    "## Numpy approach\n",
    "* Convert the list into a numpy array to efficiently iterate. \n",
    "* Then, for each integer in the array calculate the sum of each element with \n",
    "  that integer to check whether any sum adds to the target (winner). \n",
    "* Then search those positions in the array, first, the current iteration \n",
    "  element.\n",
    "* Chances are the location returns two positions if the target is the sum\n",
    "  of the same numbers in different positions in the array. \n",
    "* Otherwise, search the position of the second element.   "
   ]
  },
  {
   "cell_type": "code",
   "execution_count": 2,
   "metadata": {
    "jupyter": {
     "source_hidden": true
    }
   },
   "outputs": [],
   "source": [
    "import numpy as np\n",
    "def twoSum(nums, target):\n",
    "    \"\"\"Return the indices of the integers that sum up to the target.\"\"\"\n",
    "    array = np.array(nums)\n",
    "    for n, i in enumerate(array):\n",
    "        if (array[n+1:] + i == target).any():\n",
    "            # There is a winner in this iteration\n",
    "            first_pos = np.where(array == i)[0]\n",
    "            if first_pos.size == 2:\n",
    "                return [first_pos[0], first_pos[1]]\n",
    "            return [\n",
    "                first_pos[0], np.where(array == target - i)[0][0]]"
   ]
  },
  {
   "cell_type": "code",
   "execution_count": 3,
   "metadata": {
    "jupyter": {
     "source_hidden": true
    }
   },
   "outputs": [
    {
     "name": "stdout",
     "output_type": "stream",
     "text": [
      "66 µs ± 371 ns per loop (mean ± std. dev. of 7 runs, 10000 loops each)\n"
     ]
    }
   ],
   "source": [
    "%%timeit\n",
    "assertions()"
   ]
  },
  {
   "cell_type": "markdown",
   "metadata": {},
   "source": [
    "## Hash table approach (2-loops)\n",
    "We need a way to get the index of the conjugate and that could be achieved by usign a `dict` where:\n",
    "* Keys are the values we'll search the conjugate within.\n",
    "* Values are the current conjugate position\n",
    "* For any number in the array we'll calculate the conjugate and search in the keys"
   ]
  },
  {
   "cell_type": "code",
   "execution_count": 4,
   "metadata": {
    "jupyter": {
     "source_hidden": true
    }
   },
   "outputs": [],
   "source": [
    "def twoSum(nums, target):\n",
    "    indices = {n: idx for idx, n in enumerate(nums)}\n",
    "    for idx, n in enumerate(nums):\n",
    "        conjugate = target - n\n",
    "        if conjugate in indices.keys() and indices[conjugate] != idx:\n",
    "            return [idx, indices[conjugate]]"
   ]
  },
  {
   "cell_type": "code",
   "execution_count": 5,
   "metadata": {
    "jupyter": {
     "source_hidden": true
    }
   },
   "outputs": [
    {
     "name": "stdout",
     "output_type": "stream",
     "text": [
      "5.39 µs ± 104 ns per loop (mean ± std. dev. of 7 runs, 100000 loops each)\n"
     ]
    }
   ],
   "source": [
    "%%timeit\n",
    "assertions()"
   ]
  },
  {
   "cell_type": "markdown",
   "metadata": {},
   "source": [
    "## Hash table approach (1-loop)\n",
    "Update the dict on the fly and look back for the conjugate"
   ]
  },
  {
   "cell_type": "code",
   "execution_count": 6,
   "metadata": {
    "jupyter": {
     "source_hidden": true
    }
   },
   "outputs": [],
   "source": [
    "def twoSum(nums, target):\n",
    "    indices = {}\n",
    "    for idx, n in enumerate(nums):\n",
    "        conjugate = target - n\n",
    "        if conjugate in indices.keys():\n",
    "            return [indices[conjugate], idx]\n",
    "        indices.update([[n, idx], [n, idx]])"
   ]
  },
  {
   "cell_type": "code",
   "execution_count": 7,
   "metadata": {
    "jupyter": {
     "source_hidden": true
    }
   },
   "outputs": [
    {
     "name": "stdout",
     "output_type": "stream",
     "text": [
      "6.72 µs ± 96.7 ns per loop (mean ± std. dev. of 7 runs, 100000 loops each)\n"
     ]
    }
   ],
   "source": [
    "%%timeit\n",
    "assertions()"
   ]
  },
  {
   "cell_type": "markdown",
   "metadata": {},
   "source": [
    "## Numpy matrix approach\n",
    "Create a matrix out of the sum of the arrays and look for the target's position. Notice that the matrix created is diagonal so usually `np.where` will return a couple of indexers --the rows and the columms-- with two numbers inside meaning x, y coordinates. In the case of `[0, 0, 4, 7]`, four coordinates will be returned meaning the sum of the submatrix `[[0, 0],[0, 0]` in the top left corner.\n",
    "\n",
    "This approach greatly exceeded the time limit processing a quite big array."
   ]
  },
  {
   "cell_type": "code",
   "execution_count": 8,
   "metadata": {
    "jupyter": {
     "source_hidden": true
    }
   },
   "outputs": [],
   "source": [
    "def twoSum(nums, target):\n",
    "    n = len(nums)\n",
    "    matrix = np.full((n, n), nums)\n",
    "    diagonal = matrix + matrix.T\n",
    "    # exclude diagonal from the results\n",
    "    diagonal[np.eye(n).astype(bool)] = target + 1\n",
    "    find = np.where(diagonal == target)\n",
    "    if find[0].size == 2:\n",
    "        return [find[0][0], find[0][1]]\n",
    "    else:\n",
    "        return [find[0][1], find[0][2]]"
   ]
  },
  {
   "cell_type": "code",
   "execution_count": 9,
   "metadata": {
    "jupyter": {
     "source_hidden": true
    }
   },
   "outputs": [
    {
     "name": "stdout",
     "output_type": "stream",
     "text": [
      "74.7 µs ± 1.35 µs per loop (mean ± std. dev. of 7 runs, 10000 loops each)\n"
     ]
    }
   ],
   "source": [
    "%%timeit\n",
    "assertions()"
   ]
  }
 ],
 "metadata": {
  "kernelspec": {
   "display_name": "Python 3",
   "language": "python",
   "name": "python3"
  },
  "language_info": {
   "codemirror_mode": {
    "name": "ipython",
    "version": 3
   },
   "file_extension": ".py",
   "mimetype": "text/x-python",
   "name": "python",
   "nbconvert_exporter": "python",
   "pygments_lexer": "ipython3",
   "version": "3.8.2"
  },
  "toc-autonumbering": true,
  "toc-showcode": false
 },
 "nbformat": 4,
 "nbformat_minor": 4
}
